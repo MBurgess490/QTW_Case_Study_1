{
 "cells": [
  {
   "cell_type": "code",
   "execution_count": 1,
   "id": "1bd21dbb-da42-4ec2-98f5-fcb3c9e1f61e",
   "metadata": {},
   "outputs": [],
   "source": [
    "import pandas as pd\n",
    "import matplotlib.pyplot as plt\n",
    "import seaborn as sns\n",
    "from sklearn.preprocessing import MinMaxScaler\n",
    "from sklearn.pipeline import Pipeline\n",
    "from sklearn.linear_model import Lasso\n",
    "from yellowbrick.regressor import ManualAlphaSelection\n",
    "import numpy as np\n",
    "from sklearn.linear_model import Ridge\n",
    "from sklearn.model_selection import cross_val_score\n",
    "from sklearn.linear_model import ElasticNet\n",
    "from sklearn.linear_model import LinearRegression"
   ]
  },
  {
   "cell_type": "code",
   "execution_count": 2,
   "id": "58f08592-6691-4626-875b-625012843474",
   "metadata": {},
   "outputs": [],
   "source": [
    "import warnings\n",
    "warnings.filterwarnings('ignore')"
   ]
  },
  {
   "cell_type": "code",
   "execution_count": 3,
   "id": "c13fb450-6145-4925-9030-b44f8a792432",
   "metadata": {},
   "outputs": [],
   "source": [
    "%matplotlib inline"
   ]
  },
  {
   "cell_type": "code",
   "execution_count": 4,
   "id": "b1c34258-134e-404e-b51d-23d7d9b2921f",
   "metadata": {},
   "outputs": [],
   "source": [
    "#data import\n",
    "train = pd.read_csv('C:\\\\Users\\\\Mburg\\\\Documents\\\\SMU\\\\Spring 2022\\\\Quantifying the World\\\\Case Study 1\\\\train.csv', low_memory = False)\n",
    "materials = pd.read_csv('C:\\\\Users\\\\Mburg\\\\Documents\\\\SMU\\\\Spring 2022\\\\Quantifying the World\\\\Case Study 1\\\\unique_m.csv', low_memory = False)"
   ]
  },
  {
   "cell_type": "markdown",
   "id": "b9b9b3e1-7bca-4106-8b62-09ef4840fe36",
   "metadata": {},
   "source": [
    "# Business understanding\n",
    "\n",
    "### Write business understanding here"
   ]
  },
  {
   "cell_type": "markdown",
   "id": "acbc26ec-28a0-41f9-bc41-7ddb873ed2a0",
   "metadata": {},
   "source": [
    "# Exploring the data (data evaluation/engineering)"
   ]
  },
  {
   "cell_type": "markdown",
   "id": "551ae093-4431-4f34-8527-29e754400e56",
   "metadata": {},
   "source": [
    "We began with two distinct data files. One containing information on the properties of each sample and one containing the chemical formula and composition of each sample. Per our client's direction, each row in one file corresponded to the same row in the other file and these datasets were joined on their respective identical indices. We chose to drop the material name column from the combined dataset as the name of the material is irrelevant to predicting what temperature it will super conduct at. We also dropped the second critical temperature column as it was redundant.\n",
    "\n",
    "There are 15,542 unique materials represented in the combined dataset with 5,721 materials having identical chemical formulas and chemical makeups. However, the other properties of the material samples vary resulting in 21,263 unique samples. The data are comprised of 168 unique columns representing different attributes of the samples such as atomic mass and elemental composition. The dataset is complete and there are no missing data.\n",
    "\n",
    "Although not indicated, we assumed that the critical temperatures listed in the dataset were using Kelvin for temperature. Based on the maximum value of 185, this temperature seems too hot for any material to become a superconductor if the temperature scale is in Celsius or Fahrenheit. The mean critical temperature for superconducting is approximately 34.42 Kelvin with a standard deviation of 34.25 degrees. The median critical temperature was 20 Kelvin. The minimum critical temperature seen in the data is 0.000210 Kelvin and the maximum is 185 Kelvin.\n",
    "\n",
    "The mean number of elements making up each material is approximately 4 with a standard deviation of 1.44 elements. There was a minimum of 1 element and a maximum of 9 elements composing the materials in the dataset. \n",
    "\n",
    "In the graphics below, we can see the distribution of the critical temperatures necessary for superconducting. The median, at 20 Kelvin, is indicated by the horizontal line on the box plot. The mean is indicated by the red vertical line on the histogram. "
   ]
  },
  {
   "cell_type": "code",
   "execution_count": 5,
   "id": "6968042b-896d-4db3-b4bf-08450a6fa167",
   "metadata": {},
   "outputs": [
    {
     "data": {
      "text/plain": [
       "Index(['number_of_elements', 'mean_atomic_mass', 'wtd_mean_atomic_mass',\n",
       "       'gmean_atomic_mass', 'wtd_gmean_atomic_mass', 'entropy_atomic_mass',\n",
       "       'wtd_entropy_atomic_mass', 'range_atomic_mass', 'wtd_range_atomic_mass',\n",
       "       'std_atomic_mass', 'wtd_std_atomic_mass', 'mean_fie', 'wtd_mean_fie',\n",
       "       'gmean_fie', 'wtd_gmean_fie', 'entropy_fie', 'wtd_entropy_fie',\n",
       "       'range_fie', 'wtd_range_fie', 'std_fie', 'wtd_std_fie',\n",
       "       'mean_atomic_radius', 'wtd_mean_atomic_radius', 'gmean_atomic_radius',\n",
       "       'wtd_gmean_atomic_radius', 'entropy_atomic_radius',\n",
       "       'wtd_entropy_atomic_radius', 'range_atomic_radius',\n",
       "       'wtd_range_atomic_radius', 'std_atomic_radius', 'wtd_std_atomic_radius',\n",
       "       'mean_Density', 'wtd_mean_Density', 'gmean_Density',\n",
       "       'wtd_gmean_Density', 'entropy_Density', 'wtd_entropy_Density',\n",
       "       'range_Density', 'wtd_range_Density', 'std_Density', 'wtd_std_Density',\n",
       "       'mean_ElectronAffinity', 'wtd_mean_ElectronAffinity',\n",
       "       'gmean_ElectronAffinity', 'wtd_gmean_ElectronAffinity',\n",
       "       'entropy_ElectronAffinity', 'wtd_entropy_ElectronAffinity',\n",
       "       'range_ElectronAffinity', 'wtd_range_ElectronAffinity',\n",
       "       'std_ElectronAffinity', 'wtd_std_ElectronAffinity', 'mean_FusionHeat',\n",
       "       'wtd_mean_FusionHeat', 'gmean_FusionHeat', 'wtd_gmean_FusionHeat',\n",
       "       'entropy_FusionHeat', 'wtd_entropy_FusionHeat', 'range_FusionHeat',\n",
       "       'wtd_range_FusionHeat', 'std_FusionHeat', 'wtd_std_FusionHeat',\n",
       "       'mean_ThermalConductivity', 'wtd_mean_ThermalConductivity',\n",
       "       'gmean_ThermalConductivity', 'wtd_gmean_ThermalConductivity',\n",
       "       'entropy_ThermalConductivity', 'wtd_entropy_ThermalConductivity',\n",
       "       'range_ThermalConductivity', 'wtd_range_ThermalConductivity',\n",
       "       'std_ThermalConductivity', 'wtd_std_ThermalConductivity',\n",
       "       'mean_Valence', 'wtd_mean_Valence', 'gmean_Valence',\n",
       "       'wtd_gmean_Valence', 'entropy_Valence', 'wtd_entropy_Valence',\n",
       "       'range_Valence', 'wtd_range_Valence', 'std_Valence', 'wtd_std_Valence',\n",
       "       'critical_temp'],\n",
       "      dtype='object')"
      ]
     },
     "execution_count": 5,
     "metadata": {},
     "output_type": "execute_result"
    }
   ],
   "source": [
    "#column names for train data file\n",
    "train.columns"
   ]
  },
  {
   "cell_type": "code",
   "execution_count": 6,
   "id": "c129dc21-d309-4d07-91a5-c7afb42da5bd",
   "metadata": {},
   "outputs": [
    {
     "data": {
      "text/plain": [
       "Index(['H', 'He', 'Li', 'Be', 'B', 'C', 'N', 'O', 'F', 'Ne', 'Na', 'Mg', 'Al',\n",
       "       'Si', 'P', 'S', 'Cl', 'Ar', 'K', 'Ca', 'Sc', 'Ti', 'V', 'Cr', 'Mn',\n",
       "       'Fe', 'Co', 'Ni', 'Cu', 'Zn', 'Ga', 'Ge', 'As', 'Se', 'Br', 'Kr', 'Rb',\n",
       "       'Sr', 'Y', 'Zr', 'Nb', 'Mo', 'Tc', 'Ru', 'Rh', 'Pd', 'Ag', 'Cd', 'In',\n",
       "       'Sn', 'Sb', 'Te', 'I', 'Xe', 'Cs', 'Ba', 'La', 'Ce', 'Pr', 'Nd', 'Pm',\n",
       "       'Sm', 'Eu', 'Gd', 'Tb', 'Dy', 'Ho', 'Er', 'Tm', 'Yb', 'Lu', 'Hf', 'Ta',\n",
       "       'W', 'Re', 'Os', 'Ir', 'Pt', 'Au', 'Hg', 'Tl', 'Pb', 'Bi', 'Po', 'At',\n",
       "       'Rn', 'critical_temp', 'material'],\n",
       "      dtype='object')"
      ]
     },
     "execution_count": 6,
     "metadata": {},
     "output_type": "execute_result"
    }
   ],
   "source": [
    "#column names for materials data file\n",
    "materials.columns"
   ]
  },
  {
   "cell_type": "code",
   "execution_count": 7,
   "id": "b53d6310-40d5-45ad-8690-7450bd4783fa",
   "metadata": {},
   "outputs": [
    {
     "data": {
      "text/plain": [
       "15542"
      ]
     },
     "execution_count": 7,
     "metadata": {},
     "output_type": "execute_result"
    }
   ],
   "source": [
    "#check number of unique materials\n",
    "materials['material'].nunique()"
   ]
  },
  {
   "cell_type": "code",
   "execution_count": 8,
   "id": "b77e66c3-1205-4a66-9863-687d28eed912",
   "metadata": {},
   "outputs": [
    {
     "data": {
      "text/plain": [
       "0"
      ]
     },
     "execution_count": 8,
     "metadata": {},
     "output_type": "execute_result"
    }
   ],
   "source": [
    "#count duplicates\n",
    "len(materials)-len(materials.drop_duplicates())"
   ]
  },
  {
   "cell_type": "code",
   "execution_count": 9,
   "id": "e1e9c059-500c-4aa8-ad4a-dbfce4490520",
   "metadata": {},
   "outputs": [],
   "source": [
    "#drop redundant critical temp column\n",
    "#drop material column. material name is irrelevant to predicting temperature for this case study\n",
    "materials = materials.drop(['critical_temp'], axis = 1)\n",
    "materials = materials.drop(['material'], axis = 1)"
   ]
  },
  {
   "cell_type": "code",
   "execution_count": 10,
   "id": "231345d7-e920-4eb7-8fca-7d7c7f830e92",
   "metadata": {},
   "outputs": [],
   "source": [
    "#join materials colunms to train column\n",
    "train = train.join(materials)"
   ]
  },
  {
   "cell_type": "code",
   "execution_count": 11,
   "id": "bc7b39cd-6792-48a7-a457-79eee987a658",
   "metadata": {},
   "outputs": [],
   "source": [
    "#move the predicted variable critical temp to the first column\n",
    "#adapted from https://www.geeksforgeeks.org/how-to-move-a-column-to-first-position-in-pandas-dataframe/\n",
    "first_column = train.pop('critical_temp')\n",
    "\n",
    "train.insert(0, 'critical_temp', first_column)"
   ]
  },
  {
   "cell_type": "code",
   "execution_count": 12,
   "id": "774c986d-a488-417e-8b27-2684d5f56cd9",
   "metadata": {},
   "outputs": [
    {
     "data": {
      "text/html": [
       "<div>\n",
       "<style scoped>\n",
       "    .dataframe tbody tr th:only-of-type {\n",
       "        vertical-align: middle;\n",
       "    }\n",
       "\n",
       "    .dataframe tbody tr th {\n",
       "        vertical-align: top;\n",
       "    }\n",
       "\n",
       "    .dataframe thead th {\n",
       "        text-align: right;\n",
       "    }\n",
       "</style>\n",
       "<table border=\"1\" class=\"dataframe\">\n",
       "  <thead>\n",
       "    <tr style=\"text-align: right;\">\n",
       "      <th></th>\n",
       "      <th>critical_temp</th>\n",
       "      <th>number_of_elements</th>\n",
       "      <th>mean_atomic_mass</th>\n",
       "      <th>wtd_mean_atomic_mass</th>\n",
       "      <th>gmean_atomic_mass</th>\n",
       "      <th>wtd_gmean_atomic_mass</th>\n",
       "      <th>entropy_atomic_mass</th>\n",
       "      <th>wtd_entropy_atomic_mass</th>\n",
       "      <th>range_atomic_mass</th>\n",
       "      <th>wtd_range_atomic_mass</th>\n",
       "      <th>...</th>\n",
       "      <th>Ir</th>\n",
       "      <th>Pt</th>\n",
       "      <th>Au</th>\n",
       "      <th>Hg</th>\n",
       "      <th>Tl</th>\n",
       "      <th>Pb</th>\n",
       "      <th>Bi</th>\n",
       "      <th>Po</th>\n",
       "      <th>At</th>\n",
       "      <th>Rn</th>\n",
       "    </tr>\n",
       "  </thead>\n",
       "  <tbody>\n",
       "    <tr>\n",
       "      <th>0</th>\n",
       "      <td>29.0</td>\n",
       "      <td>4</td>\n",
       "      <td>88.944468</td>\n",
       "      <td>57.862692</td>\n",
       "      <td>66.361592</td>\n",
       "      <td>36.116612</td>\n",
       "      <td>1.181795</td>\n",
       "      <td>1.062396</td>\n",
       "      <td>122.90607</td>\n",
       "      <td>31.794921</td>\n",
       "      <td>...</td>\n",
       "      <td>0.0</td>\n",
       "      <td>0.0</td>\n",
       "      <td>0.0</td>\n",
       "      <td>0.0</td>\n",
       "      <td>0.0</td>\n",
       "      <td>0.0</td>\n",
       "      <td>0.0</td>\n",
       "      <td>0</td>\n",
       "      <td>0</td>\n",
       "      <td>0</td>\n",
       "    </tr>\n",
       "    <tr>\n",
       "      <th>1</th>\n",
       "      <td>26.0</td>\n",
       "      <td>5</td>\n",
       "      <td>92.729214</td>\n",
       "      <td>58.518416</td>\n",
       "      <td>73.132787</td>\n",
       "      <td>36.396602</td>\n",
       "      <td>1.449309</td>\n",
       "      <td>1.057755</td>\n",
       "      <td>122.90607</td>\n",
       "      <td>36.161939</td>\n",
       "      <td>...</td>\n",
       "      <td>0.0</td>\n",
       "      <td>0.0</td>\n",
       "      <td>0.0</td>\n",
       "      <td>0.0</td>\n",
       "      <td>0.0</td>\n",
       "      <td>0.0</td>\n",
       "      <td>0.0</td>\n",
       "      <td>0</td>\n",
       "      <td>0</td>\n",
       "      <td>0</td>\n",
       "    </tr>\n",
       "    <tr>\n",
       "      <th>2</th>\n",
       "      <td>19.0</td>\n",
       "      <td>4</td>\n",
       "      <td>88.944468</td>\n",
       "      <td>57.885242</td>\n",
       "      <td>66.361592</td>\n",
       "      <td>36.122509</td>\n",
       "      <td>1.181795</td>\n",
       "      <td>0.975980</td>\n",
       "      <td>122.90607</td>\n",
       "      <td>35.741099</td>\n",
       "      <td>...</td>\n",
       "      <td>0.0</td>\n",
       "      <td>0.0</td>\n",
       "      <td>0.0</td>\n",
       "      <td>0.0</td>\n",
       "      <td>0.0</td>\n",
       "      <td>0.0</td>\n",
       "      <td>0.0</td>\n",
       "      <td>0</td>\n",
       "      <td>0</td>\n",
       "      <td>0</td>\n",
       "    </tr>\n",
       "    <tr>\n",
       "      <th>3</th>\n",
       "      <td>22.0</td>\n",
       "      <td>4</td>\n",
       "      <td>88.944468</td>\n",
       "      <td>57.873967</td>\n",
       "      <td>66.361592</td>\n",
       "      <td>36.119560</td>\n",
       "      <td>1.181795</td>\n",
       "      <td>1.022291</td>\n",
       "      <td>122.90607</td>\n",
       "      <td>33.768010</td>\n",
       "      <td>...</td>\n",
       "      <td>0.0</td>\n",
       "      <td>0.0</td>\n",
       "      <td>0.0</td>\n",
       "      <td>0.0</td>\n",
       "      <td>0.0</td>\n",
       "      <td>0.0</td>\n",
       "      <td>0.0</td>\n",
       "      <td>0</td>\n",
       "      <td>0</td>\n",
       "      <td>0</td>\n",
       "    </tr>\n",
       "    <tr>\n",
       "      <th>4</th>\n",
       "      <td>23.0</td>\n",
       "      <td>4</td>\n",
       "      <td>88.944468</td>\n",
       "      <td>57.840143</td>\n",
       "      <td>66.361592</td>\n",
       "      <td>36.110716</td>\n",
       "      <td>1.181795</td>\n",
       "      <td>1.129224</td>\n",
       "      <td>122.90607</td>\n",
       "      <td>27.848743</td>\n",
       "      <td>...</td>\n",
       "      <td>0.0</td>\n",
       "      <td>0.0</td>\n",
       "      <td>0.0</td>\n",
       "      <td>0.0</td>\n",
       "      <td>0.0</td>\n",
       "      <td>0.0</td>\n",
       "      <td>0.0</td>\n",
       "      <td>0</td>\n",
       "      <td>0</td>\n",
       "      <td>0</td>\n",
       "    </tr>\n",
       "  </tbody>\n",
       "</table>\n",
       "<p>5 rows × 168 columns</p>\n",
       "</div>"
      ],
      "text/plain": [
       "   critical_temp  number_of_elements  mean_atomic_mass  wtd_mean_atomic_mass  \\\n",
       "0           29.0                   4         88.944468             57.862692   \n",
       "1           26.0                   5         92.729214             58.518416   \n",
       "2           19.0                   4         88.944468             57.885242   \n",
       "3           22.0                   4         88.944468             57.873967   \n",
       "4           23.0                   4         88.944468             57.840143   \n",
       "\n",
       "   gmean_atomic_mass  wtd_gmean_atomic_mass  entropy_atomic_mass  \\\n",
       "0          66.361592              36.116612             1.181795   \n",
       "1          73.132787              36.396602             1.449309   \n",
       "2          66.361592              36.122509             1.181795   \n",
       "3          66.361592              36.119560             1.181795   \n",
       "4          66.361592              36.110716             1.181795   \n",
       "\n",
       "   wtd_entropy_atomic_mass  range_atomic_mass  wtd_range_atomic_mass  ...  \\\n",
       "0                 1.062396          122.90607              31.794921  ...   \n",
       "1                 1.057755          122.90607              36.161939  ...   \n",
       "2                 0.975980          122.90607              35.741099  ...   \n",
       "3                 1.022291          122.90607              33.768010  ...   \n",
       "4                 1.129224          122.90607              27.848743  ...   \n",
       "\n",
       "    Ir   Pt   Au   Hg   Tl   Pb   Bi  Po  At  Rn  \n",
       "0  0.0  0.0  0.0  0.0  0.0  0.0  0.0   0   0   0  \n",
       "1  0.0  0.0  0.0  0.0  0.0  0.0  0.0   0   0   0  \n",
       "2  0.0  0.0  0.0  0.0  0.0  0.0  0.0   0   0   0  \n",
       "3  0.0  0.0  0.0  0.0  0.0  0.0  0.0   0   0   0  \n",
       "4  0.0  0.0  0.0  0.0  0.0  0.0  0.0   0   0   0  \n",
       "\n",
       "[5 rows x 168 columns]"
      ]
     },
     "execution_count": 12,
     "metadata": {},
     "output_type": "execute_result"
    }
   ],
   "source": [
    "#sanity check to make sure data is present and columns are in correct order\n",
    "train.head()"
   ]
  },
  {
   "cell_type": "code",
   "execution_count": 13,
   "id": "1fea041d-c27a-4465-836e-1b76ce77cd38",
   "metadata": {},
   "outputs": [
    {
     "data": {
      "text/plain": [
       "(21263, 168)"
      ]
     },
     "execution_count": 13,
     "metadata": {},
     "output_type": "execute_result"
    }
   ],
   "source": [
    "#check dimensions of dataframe\n",
    "train.shape"
   ]
  },
  {
   "cell_type": "code",
   "execution_count": 14,
   "id": "e4243010-6dad-4fbf-951b-2526651e516a",
   "metadata": {},
   "outputs": [
    {
     "data": {
      "text/plain": [
       "0"
      ]
     },
     "execution_count": 14,
     "metadata": {},
     "output_type": "execute_result"
    }
   ],
   "source": [
    "#count number of total NaNs in dataframe\n",
    "train.isna().sum().sum()"
   ]
  },
  {
   "cell_type": "code",
   "execution_count": 15,
   "id": "03300cce-1c00-44df-93c8-fe2982d2b4c3",
   "metadata": {
    "tags": []
   },
   "outputs": [
    {
     "data": {
      "text/html": [
       "<div>\n",
       "<style scoped>\n",
       "    .dataframe tbody tr th:only-of-type {\n",
       "        vertical-align: middle;\n",
       "    }\n",
       "\n",
       "    .dataframe tbody tr th {\n",
       "        vertical-align: top;\n",
       "    }\n",
       "\n",
       "    .dataframe thead th {\n",
       "        text-align: right;\n",
       "    }\n",
       "</style>\n",
       "<table border=\"1\" class=\"dataframe\">\n",
       "  <thead>\n",
       "    <tr style=\"text-align: right;\">\n",
       "      <th></th>\n",
       "      <th>critical_temp</th>\n",
       "      <th>number_of_elements</th>\n",
       "      <th>mean_atomic_mass</th>\n",
       "      <th>wtd_mean_atomic_mass</th>\n",
       "      <th>gmean_atomic_mass</th>\n",
       "      <th>wtd_gmean_atomic_mass</th>\n",
       "      <th>entropy_atomic_mass</th>\n",
       "      <th>wtd_entropy_atomic_mass</th>\n",
       "      <th>range_atomic_mass</th>\n",
       "      <th>wtd_range_atomic_mass</th>\n",
       "      <th>...</th>\n",
       "      <th>Ir</th>\n",
       "      <th>Pt</th>\n",
       "      <th>Au</th>\n",
       "      <th>Hg</th>\n",
       "      <th>Tl</th>\n",
       "      <th>Pb</th>\n",
       "      <th>Bi</th>\n",
       "      <th>Po</th>\n",
       "      <th>At</th>\n",
       "      <th>Rn</th>\n",
       "    </tr>\n",
       "  </thead>\n",
       "  <tbody>\n",
       "    <tr>\n",
       "      <th>count</th>\n",
       "      <td>21263.000000</td>\n",
       "      <td>21263.000000</td>\n",
       "      <td>21263.000000</td>\n",
       "      <td>21263.000000</td>\n",
       "      <td>21263.000000</td>\n",
       "      <td>21263.000000</td>\n",
       "      <td>21263.000000</td>\n",
       "      <td>21263.000000</td>\n",
       "      <td>21263.000000</td>\n",
       "      <td>21263.000000</td>\n",
       "      <td>...</td>\n",
       "      <td>21263.000000</td>\n",
       "      <td>21263.000000</td>\n",
       "      <td>21263.000000</td>\n",
       "      <td>21263.000000</td>\n",
       "      <td>21263.000000</td>\n",
       "      <td>21263.000000</td>\n",
       "      <td>21263.000000</td>\n",
       "      <td>21263.0</td>\n",
       "      <td>21263.0</td>\n",
       "      <td>21263.0</td>\n",
       "    </tr>\n",
       "    <tr>\n",
       "      <th>mean</th>\n",
       "      <td>34.421219</td>\n",
       "      <td>4.115224</td>\n",
       "      <td>87.557631</td>\n",
       "      <td>72.988310</td>\n",
       "      <td>71.290627</td>\n",
       "      <td>58.539916</td>\n",
       "      <td>1.165608</td>\n",
       "      <td>1.063884</td>\n",
       "      <td>115.601251</td>\n",
       "      <td>33.225218</td>\n",
       "      <td>...</td>\n",
       "      <td>0.061558</td>\n",
       "      <td>0.034108</td>\n",
       "      <td>0.020535</td>\n",
       "      <td>0.036663</td>\n",
       "      <td>0.047954</td>\n",
       "      <td>0.042461</td>\n",
       "      <td>0.201009</td>\n",
       "      <td>0.0</td>\n",
       "      <td>0.0</td>\n",
       "      <td>0.0</td>\n",
       "    </tr>\n",
       "    <tr>\n",
       "      <th>std</th>\n",
       "      <td>34.254362</td>\n",
       "      <td>1.439295</td>\n",
       "      <td>29.676497</td>\n",
       "      <td>33.490406</td>\n",
       "      <td>31.030272</td>\n",
       "      <td>36.651067</td>\n",
       "      <td>0.364930</td>\n",
       "      <td>0.401423</td>\n",
       "      <td>54.626887</td>\n",
       "      <td>26.967752</td>\n",
       "      <td>...</td>\n",
       "      <td>0.864859</td>\n",
       "      <td>0.307888</td>\n",
       "      <td>0.717975</td>\n",
       "      <td>0.205846</td>\n",
       "      <td>0.272298</td>\n",
       "      <td>0.274365</td>\n",
       "      <td>0.655927</td>\n",
       "      <td>0.0</td>\n",
       "      <td>0.0</td>\n",
       "      <td>0.0</td>\n",
       "    </tr>\n",
       "    <tr>\n",
       "      <th>min</th>\n",
       "      <td>0.000210</td>\n",
       "      <td>1.000000</td>\n",
       "      <td>6.941000</td>\n",
       "      <td>6.423452</td>\n",
       "      <td>5.320573</td>\n",
       "      <td>1.960849</td>\n",
       "      <td>0.000000</td>\n",
       "      <td>0.000000</td>\n",
       "      <td>0.000000</td>\n",
       "      <td>0.000000</td>\n",
       "      <td>...</td>\n",
       "      <td>0.000000</td>\n",
       "      <td>0.000000</td>\n",
       "      <td>0.000000</td>\n",
       "      <td>0.000000</td>\n",
       "      <td>0.000000</td>\n",
       "      <td>0.000000</td>\n",
       "      <td>0.000000</td>\n",
       "      <td>0.0</td>\n",
       "      <td>0.0</td>\n",
       "      <td>0.0</td>\n",
       "    </tr>\n",
       "    <tr>\n",
       "      <th>25%</th>\n",
       "      <td>5.365000</td>\n",
       "      <td>3.000000</td>\n",
       "      <td>72.458076</td>\n",
       "      <td>52.143839</td>\n",
       "      <td>58.041225</td>\n",
       "      <td>35.248990</td>\n",
       "      <td>0.966676</td>\n",
       "      <td>0.775363</td>\n",
       "      <td>78.512902</td>\n",
       "      <td>16.824174</td>\n",
       "      <td>...</td>\n",
       "      <td>0.000000</td>\n",
       "      <td>0.000000</td>\n",
       "      <td>0.000000</td>\n",
       "      <td>0.000000</td>\n",
       "      <td>0.000000</td>\n",
       "      <td>0.000000</td>\n",
       "      <td>0.000000</td>\n",
       "      <td>0.0</td>\n",
       "      <td>0.0</td>\n",
       "      <td>0.0</td>\n",
       "    </tr>\n",
       "    <tr>\n",
       "      <th>50%</th>\n",
       "      <td>20.000000</td>\n",
       "      <td>4.000000</td>\n",
       "      <td>84.922750</td>\n",
       "      <td>60.696571</td>\n",
       "      <td>66.361592</td>\n",
       "      <td>39.918385</td>\n",
       "      <td>1.199541</td>\n",
       "      <td>1.146783</td>\n",
       "      <td>122.906070</td>\n",
       "      <td>26.636008</td>\n",
       "      <td>...</td>\n",
       "      <td>0.000000</td>\n",
       "      <td>0.000000</td>\n",
       "      <td>0.000000</td>\n",
       "      <td>0.000000</td>\n",
       "      <td>0.000000</td>\n",
       "      <td>0.000000</td>\n",
       "      <td>0.000000</td>\n",
       "      <td>0.0</td>\n",
       "      <td>0.0</td>\n",
       "      <td>0.0</td>\n",
       "    </tr>\n",
       "    <tr>\n",
       "      <th>75%</th>\n",
       "      <td>63.000000</td>\n",
       "      <td>5.000000</td>\n",
       "      <td>100.404410</td>\n",
       "      <td>86.103540</td>\n",
       "      <td>78.116681</td>\n",
       "      <td>73.113234</td>\n",
       "      <td>1.444537</td>\n",
       "      <td>1.359418</td>\n",
       "      <td>154.119320</td>\n",
       "      <td>38.356908</td>\n",
       "      <td>...</td>\n",
       "      <td>0.000000</td>\n",
       "      <td>0.000000</td>\n",
       "      <td>0.000000</td>\n",
       "      <td>0.000000</td>\n",
       "      <td>0.000000</td>\n",
       "      <td>0.000000</td>\n",
       "      <td>0.000000</td>\n",
       "      <td>0.0</td>\n",
       "      <td>0.0</td>\n",
       "      <td>0.0</td>\n",
       "    </tr>\n",
       "    <tr>\n",
       "      <th>max</th>\n",
       "      <td>185.000000</td>\n",
       "      <td>9.000000</td>\n",
       "      <td>208.980400</td>\n",
       "      <td>208.980400</td>\n",
       "      <td>208.980400</td>\n",
       "      <td>208.980400</td>\n",
       "      <td>1.983797</td>\n",
       "      <td>1.958203</td>\n",
       "      <td>207.972460</td>\n",
       "      <td>205.589910</td>\n",
       "      <td>...</td>\n",
       "      <td>45.000000</td>\n",
       "      <td>5.800000</td>\n",
       "      <td>64.000000</td>\n",
       "      <td>8.000000</td>\n",
       "      <td>7.000000</td>\n",
       "      <td>19.000000</td>\n",
       "      <td>14.000000</td>\n",
       "      <td>0.0</td>\n",
       "      <td>0.0</td>\n",
       "      <td>0.0</td>\n",
       "    </tr>\n",
       "  </tbody>\n",
       "</table>\n",
       "<p>8 rows × 168 columns</p>\n",
       "</div>"
      ],
      "text/plain": [
       "       critical_temp  number_of_elements  mean_atomic_mass  \\\n",
       "count   21263.000000        21263.000000      21263.000000   \n",
       "mean       34.421219            4.115224         87.557631   \n",
       "std        34.254362            1.439295         29.676497   \n",
       "min         0.000210            1.000000          6.941000   \n",
       "25%         5.365000            3.000000         72.458076   \n",
       "50%        20.000000            4.000000         84.922750   \n",
       "75%        63.000000            5.000000        100.404410   \n",
       "max       185.000000            9.000000        208.980400   \n",
       "\n",
       "       wtd_mean_atomic_mass  gmean_atomic_mass  wtd_gmean_atomic_mass  \\\n",
       "count          21263.000000       21263.000000           21263.000000   \n",
       "mean              72.988310          71.290627              58.539916   \n",
       "std               33.490406          31.030272              36.651067   \n",
       "min                6.423452           5.320573               1.960849   \n",
       "25%               52.143839          58.041225              35.248990   \n",
       "50%               60.696571          66.361592              39.918385   \n",
       "75%               86.103540          78.116681              73.113234   \n",
       "max              208.980400         208.980400             208.980400   \n",
       "\n",
       "       entropy_atomic_mass  wtd_entropy_atomic_mass  range_atomic_mass  \\\n",
       "count         21263.000000             21263.000000       21263.000000   \n",
       "mean              1.165608                 1.063884         115.601251   \n",
       "std               0.364930                 0.401423          54.626887   \n",
       "min               0.000000                 0.000000           0.000000   \n",
       "25%               0.966676                 0.775363          78.512902   \n",
       "50%               1.199541                 1.146783         122.906070   \n",
       "75%               1.444537                 1.359418         154.119320   \n",
       "max               1.983797                 1.958203         207.972460   \n",
       "\n",
       "       wtd_range_atomic_mass  ...            Ir            Pt            Au  \\\n",
       "count           21263.000000  ...  21263.000000  21263.000000  21263.000000   \n",
       "mean               33.225218  ...      0.061558      0.034108      0.020535   \n",
       "std                26.967752  ...      0.864859      0.307888      0.717975   \n",
       "min                 0.000000  ...      0.000000      0.000000      0.000000   \n",
       "25%                16.824174  ...      0.000000      0.000000      0.000000   \n",
       "50%                26.636008  ...      0.000000      0.000000      0.000000   \n",
       "75%                38.356908  ...      0.000000      0.000000      0.000000   \n",
       "max               205.589910  ...     45.000000      5.800000     64.000000   \n",
       "\n",
       "                 Hg            Tl            Pb            Bi       Po  \\\n",
       "count  21263.000000  21263.000000  21263.000000  21263.000000  21263.0   \n",
       "mean       0.036663      0.047954      0.042461      0.201009      0.0   \n",
       "std        0.205846      0.272298      0.274365      0.655927      0.0   \n",
       "min        0.000000      0.000000      0.000000      0.000000      0.0   \n",
       "25%        0.000000      0.000000      0.000000      0.000000      0.0   \n",
       "50%        0.000000      0.000000      0.000000      0.000000      0.0   \n",
       "75%        0.000000      0.000000      0.000000      0.000000      0.0   \n",
       "max        8.000000      7.000000     19.000000     14.000000      0.0   \n",
       "\n",
       "            At       Rn  \n",
       "count  21263.0  21263.0  \n",
       "mean       0.0      0.0  \n",
       "std        0.0      0.0  \n",
       "min        0.0      0.0  \n",
       "25%        0.0      0.0  \n",
       "50%        0.0      0.0  \n",
       "75%        0.0      0.0  \n",
       "max        0.0      0.0  \n",
       "\n",
       "[8 rows x 168 columns]"
      ]
     },
     "execution_count": 15,
     "metadata": {},
     "output_type": "execute_result"
    }
   ],
   "source": [
    "#summary statistics per column\n",
    "train.describe()"
   ]
  },
  {
   "cell_type": "markdown",
   "id": "23cb724f-85ae-4a9b-bbe8-c0ebf8edff72",
   "metadata": {},
   "source": [
    "# Data visualization"
   ]
  },
  {
   "cell_type": "code",
   "execution_count": 16,
   "id": "31e64e17-d217-4f19-bdd5-e1ab4fd19200",
   "metadata": {},
   "outputs": [
    {
     "data": {
      "text/plain": [
       "<matplotlib.lines.Line2D at 0x26ed391a880>"
      ]
     },
     "execution_count": 16,
     "metadata": {},
     "output_type": "execute_result"
    },
    {
     "data": {
      "image/png": "[encoded data removed]",
      "text/plain": [
       "<Figure size 360x360 with 1 Axes>"
      ]
     },
     "metadata": {
      "needs_background": "light"
     },
     "output_type": "display_data"
    }
   ],
   "source": [
    "sns.displot(train,\n",
    "            x='critical_temp')\n",
    "plt.title('Distribution of Superconducting Critical Temperature')\n",
    "plt.xlabel('Critical Temperature (Degrees Kelvin)')\n",
    "plt.ylabel('Count')\n",
    "plt.axvline(x=train.critical_temp.mean(),\n",
    "            color='red')"
   ]
  },
  {
   "cell_type": "code",
   "execution_count": 17,
   "id": "c979650b-835d-4bf8-8f87-c13332a1ee12",
   "metadata": {},
   "outputs": [
    {
     "data": {
      "image/png": "[encoded data removed]",
      "text/plain": [
       "<Figure size 432x288 with 1 Axes>"
      ]
     },
     "metadata": {
      "needs_background": "light"
     },
     "output_type": "display_data"
    }
   ],
   "source": [
    "sns.boxplot(y = train['critical_temp'])\n",
    "plt.title('Distribution of Superconducting Critical Temperature')\n",
    "plt.ylabel('Critical Temperature (Degrees Kelvin)')\n",
    "plt.show()"
   ]
  },
  {
   "cell_type": "markdown",
   "id": "3fccd148-f930-4a73-a839-f3faeef4b5ee",
   "metadata": {},
   "source": [
    "## Model creation"
   ]
  },
  {
   "cell_type": "code",
   "execution_count": 18,
   "id": "f8c5b8ce-02d0-4ead-bb15-3cb75ea4e9a0",
   "metadata": {
    "tags": []
   },
   "outputs": [],
   "source": [
    "#create the X and y data\n",
    "X = train.drop(['critical_temp'], axis = 1)\n",
    "y = train['critical_temp']"
   ]
  },
  {
   "cell_type": "code",
   "execution_count": 19,
   "id": "8fb116bc-ca2a-4b9d-bf63-0dbf929bf7ed",
   "metadata": {},
   "outputs": [],
   "source": [
    "minMax = MinMaxScaler()\n",
    "minMax.fit(X)\n",
    "transf_X = minMax.transform(X)"
   ]
  },
  {
   "cell_type": "markdown",
   "id": "75737d31-6173-42e0-9e38-1569af277bd7",
   "metadata": {},
   "source": [
    "### Linear"
   ]
  },
  {
   "cell_type": "code",
   "execution_count": 20,
   "id": "b4e42c69-20d4-45a7-b134-67d97542e639",
   "metadata": {},
   "outputs": [],
   "source": [
    "#create scaler, model, and pipeline object\n",
    "minMax = MinMaxScaler()\n",
    "linear_mdl = LinearRegression()\n",
    "pipe_object = Pipeline(steps = [('scale', minMax), ('linear_mdl', linear_mdl)])"
   ]
  },
  {
   "cell_type": "code",
   "execution_count": 21,
   "id": "659179f7-140f-4570-bf10-3cdcdc0cd8ab",
   "metadata": {},
   "outputs": [
    {
     "data": {
      "text/plain": [
       "Pipeline(steps=[('scale', MinMaxScaler()), ('linear_mdl', LinearRegression())])"
      ]
     },
     "execution_count": 21,
     "metadata": {},
     "output_type": "execute_result"
    }
   ],
   "source": [
    "pipe_object.fit(X, y)"
   ]
  },
  {
   "cell_type": "code",
   "execution_count": 22,
   "id": "d0353db9-f714-446e-a903-279474b5a86c",
   "metadata": {},
   "outputs": [
    {
     "name": "stdout",
     "output_type": "stream",
     "text": [
      "[ 1.16889879e+00  1.70434821e+02 -2.41873543e+02 -8.12115317e+01\n",
      "  1.41096750e+02 -4.64080118e+01  1.05546200e+01  3.96132017e+01\n",
      "  2.37587483e+01 -4.87678492e+01  2.27216040e-01 -1.72031643e+02\n",
      "  3.91021812e+01  1.44071786e+02  3.96307152e+00 -2.59059518e+01\n",
      "  1.11430566e+02  6.80112992e+01  2.52717024e+01 -5.26737022e+01\n",
      " -1.61208154e+01 -1.66546177e+02  5.21844128e+02  9.75732499e+01\n",
      " -4.48549884e+02 -3.86530243e+01  3.58214632e+01  1.42135692e+01\n",
      " -1.78773152e+01 -2.84712640e+01 -6.04046775e+00 -1.22633407e+02\n",
      "  1.08696901e+02  1.86482016e+01 -1.00045360e+01 -1.00980106e+01\n",
      " -5.13453831e+00 -2.15294135e+01 -1.40969877e+01  3.68508674e+01\n",
      " -1.11878656e+01 -1.37099767e+01  1.13296500e+02  3.72093240e+01\n",
      " -1.38267784e+02  1.42391246e+01 -3.03823100e+01 -1.17373294e+02\n",
      " -1.57414801e+01  1.86029744e+02 -8.13405018e+01  1.33583084e+02\n",
      " -1.93988547e+02 -9.02184313e+01  1.38763519e+02 -4.30531115e+01\n",
      "  4.24949977e+01 -1.67719515e+01  6.52006964e+01 -4.74007314e+01\n",
      "  4.18811745e+01 -2.51557322e+01  2.06522848e+02 -1.53283008e+01\n",
      " -1.29407661e+02  2.13456311e+01  1.41196627e+00 -4.67600479e+01\n",
      " -7.97862099e+01  7.24174213e+01  1.10911251e+00  3.39925199e+01\n",
      " -6.50657698e+01 -1.24061257e+01  4.91160637e+01  1.25831711e+02\n",
      " -1.39992472e+02  3.44907913e+01 -1.70503901e+01 -6.65497413e+00\n",
      " -4.89833173e+01 -5.11805538e+00  4.40536496e-12  9.23542723e+00\n",
      " -1.29174680e+01 -3.55859329e+01 -5.74423854e+00 -1.42187799e+00\n",
      " -2.55574201e+01  2.99865286e+01  1.13686838e-11  2.43229667e+01\n",
      "  1.84935848e+00 -1.29826241e+01 -1.46736122e+02 -3.18131553e+01\n",
      " -2.77561139e+01 -1.65716262e+01  4.54747351e-13  2.95720070e+01\n",
      "  2.99917972e+01  1.19998009e-01 -4.75224987e+00  2.62250501e+00\n",
      " -1.02007071e+01 -5.28623923e+00  4.50296938e+01 -1.54684634e+01\n",
      " -1.48682112e+01 -5.46543532e+01 -2.68047145e+00  1.59201363e+01\n",
      " -4.45015182e+01 -3.11235327e+01 -2.02375643e+01 -1.11653190e+00\n",
      "  7.10542736e-14  3.71081447e+01  3.13654686e-01 -5.08331731e+00\n",
      "  6.28785452e-01  8.61857036e+00  1.19940091e+01  1.20563140e+01\n",
      "  1.59664950e+01 -6.92156142e+00  3.97171877e+00 -8.02223946e+01\n",
      " -1.87662468e+01  3.56074914e+01 -7.04595936e+00 -1.14745753e+01\n",
      "  9.15104987e+00  2.85751689e+01 -4.26325641e-14  2.05493241e+01\n",
      "  1.94962948e+02 -4.50362029e-01 -1.10562799e+01 -1.55892408e+01\n",
      " -1.13668442e+01  2.13162821e-14 -7.06307490e+00 -6.38842732e+00\n",
      " -1.83878511e+00  4.15105461e+00  2.00336073e+01  1.49895971e+01\n",
      "  1.20552208e+01  3.98071309e+00  4.63994697e+01  2.57235097e+01\n",
      " -1.46949296e+01  1.41448602e+00  9.80543379e+00 -7.29203314e+00\n",
      "  1.09963512e+01  1.25086307e+00  2.28194068e+01 -4.24063187e+01\n",
      "  4.90525553e+01  3.91652830e+01  3.00830182e+01  9.09005687e+01\n",
      "  0.00000000e+00  0.00000000e+00  0.00000000e+00]\n",
      "0.6314330445692633\n"
     ]
    }
   ],
   "source": [
    "#print the raw coefficents and the intercept\n",
    "print(linear_mdl.coef_)\n",
    "print(linear_mdl.intercept_)"
   ]
  },
  {
   "cell_type": "code",
   "execution_count": 23,
   "id": "41abd0be-00c6-481e-a164-0ab1ec2b0073",
   "metadata": {},
   "outputs": [],
   "source": [
    "linear_columns = X.iloc[:, linear_mdl.coef_ != 0]"
   ]
  },
  {
   "cell_type": "code",
   "execution_count": 24,
   "id": "b01e7afe-2726-4362-90d2-1bf164cd72e0",
   "metadata": {},
   "outputs": [],
   "source": [
    "linear_names = list(linear_columns.columns)"
   ]
  },
  {
   "cell_type": "code",
   "execution_count": 25,
   "id": "1580227f-8c20-4bb5-aabf-5e28f9a587a4",
   "metadata": {},
   "outputs": [],
   "source": [
    "linear_coef = list(linear_mdl.coef_)\n",
    "linear_coef = [x for x in linear_coef if x != 0]"
   ]
  },
  {
   "cell_type": "code",
   "execution_count": 26,
   "id": "db336ea8-6277-4574-9442-ac09957b8a1d",
   "metadata": {},
   "outputs": [],
   "source": [
    "linear_variables = pd.DataFrame()\n",
    "linear_variables['Column_Name'] = linear_names\n",
    "linear_variables['Coef_Value'] = linear_coef\n",
    "linear_variables['Abslt_Coef_Value'] = abs(linear_variables['Coef_Value'])\n",
    "linear_variables = linear_variables.sort_values(['Abslt_Coef_Value'], ascending = False)\n",
    "linear_variables.reset_index(drop = True, inplace = True)"
   ]
  },
  {
   "cell_type": "code",
   "execution_count": 27,
   "id": "0cab40ea-538e-4034-9e35-5201e2863bdb",
   "metadata": {},
   "outputs": [
    {
     "data": {
      "text/html": [
       "<div>\n",
       "<style scoped>\n",
       "    .dataframe tbody tr th:only-of-type {\n",
       "        vertical-align: middle;\n",
       "    }\n",
       "\n",
       "    .dataframe tbody tr th {\n",
       "        vertical-align: top;\n",
       "    }\n",
       "\n",
       "    .dataframe thead th {\n",
       "        text-align: right;\n",
       "    }\n",
       "</style>\n",
       "<table border=\"1\" class=\"dataframe\">\n",
       "  <thead>\n",
       "    <tr style=\"text-align: right;\">\n",
       "      <th></th>\n",
       "      <th>Column_Name</th>\n",
       "      <th>Coef_Value</th>\n",
       "      <th>Abslt_Coef_Value</th>\n",
       "    </tr>\n",
       "  </thead>\n",
       "  <tbody>\n",
       "    <tr>\n",
       "      <th>0</th>\n",
       "      <td>wtd_mean_atomic_radius</td>\n",
       "      <td>5.218441e+02</td>\n",
       "      <td>5.218441e+02</td>\n",
       "    </tr>\n",
       "    <tr>\n",
       "      <th>1</th>\n",
       "      <td>wtd_gmean_atomic_radius</td>\n",
       "      <td>-4.485499e+02</td>\n",
       "      <td>4.485499e+02</td>\n",
       "    </tr>\n",
       "    <tr>\n",
       "      <th>2</th>\n",
       "      <td>wtd_mean_atomic_mass</td>\n",
       "      <td>-2.418735e+02</td>\n",
       "      <td>2.418735e+02</td>\n",
       "    </tr>\n",
       "    <tr>\n",
       "      <th>3</th>\n",
       "      <td>wtd_mean_ThermalConductivity</td>\n",
       "      <td>2.065228e+02</td>\n",
       "      <td>2.065228e+02</td>\n",
       "    </tr>\n",
       "    <tr>\n",
       "      <th>4</th>\n",
       "      <td>Ba</td>\n",
       "      <td>1.949629e+02</td>\n",
       "      <td>1.949629e+02</td>\n",
       "    </tr>\n",
       "    <tr>\n",
       "      <th>...</th>\n",
       "      <td>...</td>\n",
       "      <td>...</td>\n",
       "      <td>...</td>\n",
       "    </tr>\n",
       "    <tr>\n",
       "      <th>159</th>\n",
       "      <td>He</td>\n",
       "      <td>4.405365e-12</td>\n",
       "      <td>4.405365e-12</td>\n",
       "    </tr>\n",
       "    <tr>\n",
       "      <th>160</th>\n",
       "      <td>Ar</td>\n",
       "      <td>4.547474e-13</td>\n",
       "      <td>4.547474e-13</td>\n",
       "    </tr>\n",
       "    <tr>\n",
       "      <th>161</th>\n",
       "      <td>Kr</td>\n",
       "      <td>7.105427e-14</td>\n",
       "      <td>7.105427e-14</td>\n",
       "    </tr>\n",
       "    <tr>\n",
       "      <th>162</th>\n",
       "      <td>Xe</td>\n",
       "      <td>-4.263256e-14</td>\n",
       "      <td>4.263256e-14</td>\n",
       "    </tr>\n",
       "    <tr>\n",
       "      <th>163</th>\n",
       "      <td>Pm</td>\n",
       "      <td>2.131628e-14</td>\n",
       "      <td>2.131628e-14</td>\n",
       "    </tr>\n",
       "  </tbody>\n",
       "</table>\n",
       "<p>164 rows × 3 columns</p>\n",
       "</div>"
      ],
      "text/plain": [
       "                      Column_Name    Coef_Value  Abslt_Coef_Value\n",
       "0          wtd_mean_atomic_radius  5.218441e+02      5.218441e+02\n",
       "1         wtd_gmean_atomic_radius -4.485499e+02      4.485499e+02\n",
       "2            wtd_mean_atomic_mass -2.418735e+02      2.418735e+02\n",
       "3    wtd_mean_ThermalConductivity  2.065228e+02      2.065228e+02\n",
       "4                              Ba  1.949629e+02      1.949629e+02\n",
       "..                            ...           ...               ...\n",
       "159                            He  4.405365e-12      4.405365e-12\n",
       "160                            Ar  4.547474e-13      4.547474e-13\n",
       "161                            Kr  7.105427e-14      7.105427e-14\n",
       "162                            Xe -4.263256e-14      4.263256e-14\n",
       "163                            Pm  2.131628e-14      2.131628e-14\n",
       "\n",
       "[164 rows x 3 columns]"
      ]
     },
     "execution_count": 27,
     "metadata": {},
     "output_type": "execute_result"
    }
   ],
   "source": [
    "linear_variables"
   ]
  },
  {
   "cell_type": "code",
   "execution_count": 28,
   "id": "9706b02c-7405-448b-8d3a-038ab4b7615b",
   "metadata": {},
   "outputs": [],
   "source": [
    "linear_scores = cross_val_score(linear_mdl, transf_X, y, scoring = 'neg_root_mean_squared_error', cv=5)"
   ]
  },
  {
   "cell_type": "code",
   "execution_count": 29,
   "id": "b01e25fd-47fd-4cc0-90c9-72352b110db7",
   "metadata": {},
   "outputs": [],
   "source": [
    "avg_linear_scores = (sum(linear_scores)/len(linear_scores))"
   ]
  },
  {
   "cell_type": "code",
   "execution_count": 30,
   "id": "c05ffbc5-da77-451f-8bf2-a8631c8d599b",
   "metadata": {},
   "outputs": [
    {
     "name": "stdout",
     "output_type": "stream",
     "text": [
      "The average RMSE for the linear regression model is: 24.970298733728743\n"
     ]
    }
   ],
   "source": [
    "print('The average RMSE for the linear regression model is: ' + str(abs(avg_linear_scores)))"
   ]
  },
  {
   "cell_type": "markdown",
   "id": "c8945e99-053a-452e-91a4-53e1efea225d",
   "metadata": {},
   "source": [
    "### Lasso"
   ]
  },
  {
   "cell_type": "code",
   "execution_count": 32,
   "id": "6c5d93d5-1353-4124-9029-65827e6cadd7",
   "metadata": {},
   "outputs": [
    {
     "ename": "TypeError",
     "evalue": "list indices must be integers or slices, not tuple",
     "output_type": "error",
     "traceback": [
      "\u001b[1;31m---------------------------------------------------------------------------\u001b[0m",
      "\u001b[1;31mTypeError\u001b[0m                                 Traceback (most recent call last)",
      "\u001b[1;32m~\\AppData\\Local\\Temp/ipykernel_35900/2339759524.py\u001b[0m in \u001b[0;36m<module>\u001b[1;34m\u001b[0m\n\u001b[0;32m     10\u001b[0m )\n\u001b[0;32m     11\u001b[0m \u001b[1;33m\u001b[0m\u001b[0m\n\u001b[1;32m---> 12\u001b[1;33m \u001b[0mvisualizer\u001b[0m\u001b[1;33m.\u001b[0m\u001b[0mfit\u001b[0m\u001b[1;33m(\u001b[0m\u001b[0mtransf_X\u001b[0m\u001b[1;33m,\u001b[0m \u001b[0my\u001b[0m\u001b[1;33m)\u001b[0m\u001b[1;33m\u001b[0m\u001b[1;33m\u001b[0m\u001b[0m\n\u001b[0m\u001b[0;32m     13\u001b[0m \u001b[0mvisualizer\u001b[0m\u001b[1;33m.\u001b[0m\u001b[0mshow\u001b[0m\u001b[1;33m(\u001b[0m\u001b[1;33m)\u001b[0m\u001b[1;33m\u001b[0m\u001b[1;33m\u001b[0m\u001b[0m\n",
      "\u001b[1;32m~\\anaconda3\\envs\\ML-Apyori\\lib\\site-packages\\yellowbrick\\regressor\\alphas.py\u001b[0m in \u001b[0;36mfit\u001b[1;34m(self, X, y, **args)\u001b[0m\n\u001b[0;32m    340\u001b[0m         \u001b[1;31m# Convert errors to an ND array and draw\u001b[0m\u001b[1;33m\u001b[0m\u001b[1;33m\u001b[0m\u001b[1;33m\u001b[0m\u001b[0m\n\u001b[0;32m    341\u001b[0m         \u001b[0mself\u001b[0m\u001b[1;33m.\u001b[0m\u001b[0merrors\u001b[0m \u001b[1;33m=\u001b[0m \u001b[0mnp\u001b[0m\u001b[1;33m.\u001b[0m\u001b[0marray\u001b[0m\u001b[1;33m(\u001b[0m\u001b[0mself\u001b[0m\u001b[1;33m.\u001b[0m\u001b[0merrors\u001b[0m\u001b[1;33m)\u001b[0m\u001b[1;33m\u001b[0m\u001b[1;33m\u001b[0m\u001b[0m\n\u001b[1;32m--> 342\u001b[1;33m         \u001b[0mself\u001b[0m\u001b[1;33m.\u001b[0m\u001b[0mdraw\u001b[0m\u001b[1;33m(\u001b[0m\u001b[1;33m)\u001b[0m\u001b[1;33m\u001b[0m\u001b[1;33m\u001b[0m\u001b[0m\n\u001b[0m\u001b[0;32m    343\u001b[0m \u001b[1;33m\u001b[0m\u001b[0m\n\u001b[0;32m    344\u001b[0m         \u001b[1;31m# Always make sure to return self from fit\u001b[0m\u001b[1;33m\u001b[0m\u001b[1;33m\u001b[0m\u001b[1;33m\u001b[0m\u001b[0m\n",
      "\u001b[1;32m~\\anaconda3\\envs\\ML-Apyori\\lib\\site-packages\\yellowbrick\\regressor\\alphas.py\u001b[0m in \u001b[0;36mdraw\u001b[1;34m(self)\u001b[0m\n\u001b[0;32m    354\u001b[0m \u001b[1;33m\u001b[0m\u001b[0m\n\u001b[0;32m    355\u001b[0m         \u001b[1;31m# Draw a dashed vline at the alpha with maximal error\u001b[0m\u001b[1;33m\u001b[0m\u001b[1;33m\u001b[0m\u001b[1;33m\u001b[0m\u001b[0m\n\u001b[1;32m--> 356\u001b[1;33m         \u001b[0malpha\u001b[0m \u001b[1;33m=\u001b[0m \u001b[0mself\u001b[0m\u001b[1;33m.\u001b[0m\u001b[0malphas\u001b[0m\u001b[1;33m[\u001b[0m\u001b[0mnp\u001b[0m\u001b[1;33m.\u001b[0m\u001b[0mwhere\u001b[0m\u001b[1;33m(\u001b[0m\u001b[0mself\u001b[0m\u001b[1;33m.\u001b[0m\u001b[0merrors\u001b[0m \u001b[1;33m==\u001b[0m \u001b[0mself\u001b[0m\u001b[1;33m.\u001b[0m\u001b[0merrors\u001b[0m\u001b[1;33m.\u001b[0m\u001b[0mmax\u001b[0m\u001b[1;33m(\u001b[0m\u001b[1;33m)\u001b[0m\u001b[1;33m)\u001b[0m\u001b[1;33m]\u001b[0m\u001b[1;33m[\u001b[0m\u001b[1;36m0\u001b[0m\u001b[1;33m]\u001b[0m\u001b[1;33m\u001b[0m\u001b[1;33m\u001b[0m\u001b[0m\n\u001b[0m\u001b[0;32m    357\u001b[0m         \u001b[0mlabel\u001b[0m \u001b[1;33m=\u001b[0m \u001b[1;34m\"$\\\\alpha_{{max}}={:0.3f}$\"\u001b[0m\u001b[1;33m.\u001b[0m\u001b[0mformat\u001b[0m\u001b[1;33m(\u001b[0m\u001b[0malpha\u001b[0m\u001b[1;33m)\u001b[0m\u001b[1;33m\u001b[0m\u001b[1;33m\u001b[0m\u001b[0m\n\u001b[0;32m    358\u001b[0m         \u001b[0mself\u001b[0m\u001b[1;33m.\u001b[0m\u001b[0max\u001b[0m\u001b[1;33m.\u001b[0m\u001b[0maxvline\u001b[0m\u001b[1;33m(\u001b[0m\u001b[0malpha\u001b[0m\u001b[1;33m,\u001b[0m \u001b[0mcolor\u001b[0m\u001b[1;33m=\u001b[0m\u001b[1;34m\"k\"\u001b[0m\u001b[1;33m,\u001b[0m \u001b[0mlinestyle\u001b[0m\u001b[1;33m=\u001b[0m\u001b[1;34m\"dashed\"\u001b[0m\u001b[1;33m,\u001b[0m \u001b[0mlabel\u001b[0m\u001b[1;33m=\u001b[0m\u001b[0mlabel\u001b[0m\u001b[1;33m)\u001b[0m\u001b[1;33m\u001b[0m\u001b[1;33m\u001b[0m\u001b[0m\n",
      "\u001b[1;31mTypeError\u001b[0m: list indices must be integers or slices, not tuple"
     ]
    },
    {
     "data": {
      "image/png": "[encoded data removed]",
      "text/plain": [
       "<Figure size 432x288 with 1 Axes>"
      ]
     },
     "metadata": {
      "needs_background": "light"
     },
     "output_type": "display_data"
    }
   ],
   "source": [
    "#using yellow bricks to find potential values of Alpha for lasso\n",
    "#uses negative RMSE, higher value is better\n",
    "alphas = [x / 10 for x in range(10)]\n",
    "\n",
    "visualizer = ManualAlphaSelection(\n",
    "    Lasso(),\n",
    "    alphas= alphas,\n",
    "    cv=5,\n",
    "    scoring='neg_root_mean_squared_error'\n",
    ")\n",
    "\n",
    "visualizer.fit(transf_X, y)\n",
    "visualizer.show()"
   ]
  },
  {
   "cell_type": "code",
   "execution_count": 33,
   "id": "b74dc9a7-4484-4831-b28e-ce7ff8b6c3aa",
   "metadata": {},
   "outputs": [
    {
     "ename": "TypeError",
     "evalue": "list indices must be integers or slices, not tuple",
     "output_type": "error",
     "traceback": [
      "\u001b[1;31m---------------------------------------------------------------------------\u001b[0m",
      "\u001b[1;31mTypeError\u001b[0m                                 Traceback (most recent call last)",
      "\u001b[1;32m~\\AppData\\Local\\Temp/ipykernel_35900/4106602121.py\u001b[0m in \u001b[0;36m<module>\u001b[1;34m\u001b[0m\n\u001b[0;32m      9\u001b[0m )\n\u001b[0;32m     10\u001b[0m \u001b[1;33m\u001b[0m\u001b[0m\n\u001b[1;32m---> 11\u001b[1;33m \u001b[0mvisualizer\u001b[0m\u001b[1;33m.\u001b[0m\u001b[0mfit\u001b[0m\u001b[1;33m(\u001b[0m\u001b[0mtransf_X\u001b[0m\u001b[1;33m,\u001b[0m \u001b[0my\u001b[0m\u001b[1;33m)\u001b[0m\u001b[1;33m\u001b[0m\u001b[1;33m\u001b[0m\u001b[0m\n\u001b[0m\u001b[0;32m     12\u001b[0m \u001b[0mvisualizer\u001b[0m\u001b[1;33m.\u001b[0m\u001b[0mshow\u001b[0m\u001b[1;33m(\u001b[0m\u001b[1;33m)\u001b[0m\u001b[1;33m\u001b[0m\u001b[1;33m\u001b[0m\u001b[0m\n",
      "\u001b[1;32m~\\anaconda3\\envs\\ML-Apyori\\lib\\site-packages\\yellowbrick\\regressor\\alphas.py\u001b[0m in \u001b[0;36mfit\u001b[1;34m(self, X, y, **args)\u001b[0m\n\u001b[0;32m    340\u001b[0m         \u001b[1;31m# Convert errors to an ND array and draw\u001b[0m\u001b[1;33m\u001b[0m\u001b[1;33m\u001b[0m\u001b[1;33m\u001b[0m\u001b[0m\n\u001b[0;32m    341\u001b[0m         \u001b[0mself\u001b[0m\u001b[1;33m.\u001b[0m\u001b[0merrors\u001b[0m \u001b[1;33m=\u001b[0m \u001b[0mnp\u001b[0m\u001b[1;33m.\u001b[0m\u001b[0marray\u001b[0m\u001b[1;33m(\u001b[0m\u001b[0mself\u001b[0m\u001b[1;33m.\u001b[0m\u001b[0merrors\u001b[0m\u001b[1;33m)\u001b[0m\u001b[1;33m\u001b[0m\u001b[1;33m\u001b[0m\u001b[0m\n\u001b[1;32m--> 342\u001b[1;33m         \u001b[0mself\u001b[0m\u001b[1;33m.\u001b[0m\u001b[0mdraw\u001b[0m\u001b[1;33m(\u001b[0m\u001b[1;33m)\u001b[0m\u001b[1;33m\u001b[0m\u001b[1;33m\u001b[0m\u001b[0m\n\u001b[0m\u001b[0;32m    343\u001b[0m \u001b[1;33m\u001b[0m\u001b[0m\n\u001b[0;32m    344\u001b[0m         \u001b[1;31m# Always make sure to return self from fit\u001b[0m\u001b[1;33m\u001b[0m\u001b[1;33m\u001b[0m\u001b[1;33m\u001b[0m\u001b[0m\n",
      "\u001b[1;32m~\\anaconda3\\envs\\ML-Apyori\\lib\\site-packages\\yellowbrick\\regressor\\alphas.py\u001b[0m in \u001b[0;36mdraw\u001b[1;34m(self)\u001b[0m\n\u001b[0;32m    354\u001b[0m \u001b[1;33m\u001b[0m\u001b[0m\n\u001b[0;32m    355\u001b[0m         \u001b[1;31m# Draw a dashed vline at the alpha with maximal error\u001b[0m\u001b[1;33m\u001b[0m\u001b[1;33m\u001b[0m\u001b[1;33m\u001b[0m\u001b[0m\n\u001b[1;32m--> 356\u001b[1;33m         \u001b[0malpha\u001b[0m \u001b[1;33m=\u001b[0m \u001b[0mself\u001b[0m\u001b[1;33m.\u001b[0m\u001b[0malphas\u001b[0m\u001b[1;33m[\u001b[0m\u001b[0mnp\u001b[0m\u001b[1;33m.\u001b[0m\u001b[0mwhere\u001b[0m\u001b[1;33m(\u001b[0m\u001b[0mself\u001b[0m\u001b[1;33m.\u001b[0m\u001b[0merrors\u001b[0m \u001b[1;33m==\u001b[0m \u001b[0mself\u001b[0m\u001b[1;33m.\u001b[0m\u001b[0merrors\u001b[0m\u001b[1;33m.\u001b[0m\u001b[0mmax\u001b[0m\u001b[1;33m(\u001b[0m\u001b[1;33m)\u001b[0m\u001b[1;33m)\u001b[0m\u001b[1;33m]\u001b[0m\u001b[1;33m[\u001b[0m\u001b[1;36m0\u001b[0m\u001b[1;33m]\u001b[0m\u001b[1;33m\u001b[0m\u001b[1;33m\u001b[0m\u001b[0m\n\u001b[0m\u001b[0;32m    357\u001b[0m         \u001b[0mlabel\u001b[0m \u001b[1;33m=\u001b[0m \u001b[1;34m\"$\\\\alpha_{{max}}={:0.3f}$\"\u001b[0m\u001b[1;33m.\u001b[0m\u001b[0mformat\u001b[0m\u001b[1;33m(\u001b[0m\u001b[0malpha\u001b[0m\u001b[1;33m)\u001b[0m\u001b[1;33m\u001b[0m\u001b[1;33m\u001b[0m\u001b[0m\n\u001b[0;32m    358\u001b[0m         \u001b[0mself\u001b[0m\u001b[1;33m.\u001b[0m\u001b[0max\u001b[0m\u001b[1;33m.\u001b[0m\u001b[0maxvline\u001b[0m\u001b[1;33m(\u001b[0m\u001b[0malpha\u001b[0m\u001b[1;33m,\u001b[0m \u001b[0mcolor\u001b[0m\u001b[1;33m=\u001b[0m\u001b[1;34m\"k\"\u001b[0m\u001b[1;33m,\u001b[0m \u001b[0mlinestyle\u001b[0m\u001b[1;33m=\u001b[0m\u001b[1;34m\"dashed\"\u001b[0m\u001b[1;33m,\u001b[0m \u001b[0mlabel\u001b[0m\u001b[1;33m=\u001b[0m\u001b[0mlabel\u001b[0m\u001b[1;33m)\u001b[0m\u001b[1;33m\u001b[0m\u001b[1;33m\u001b[0m\u001b[0m\n",
      "\u001b[1;31mTypeError\u001b[0m: list indices must be integers or slices, not tuple"
     ]
    },
    {
     "data": {
      "image/png": "[encoded data removed]",
      "text/plain": [
       "<Figure size 432x288 with 1 Axes>"
      ]
     },
     "metadata": {
      "needs_background": "light"
     },
     "output_type": "display_data"
    }
   ],
   "source": [
    "#narrowing in on best alpha\n",
    "alphas = [0, 0.01, 0.02, 0.03, 0.04, 0.05, 0.06, 0.07, 0.08, 0.09, 0.1, 0.11, 0.12, 0.13, 0.14, 0.15]\n",
    "\n",
    "visualizer = ManualAlphaSelection(\n",
    "    Lasso(),\n",
    "    alphas= alphas,\n",
    "    cv=5,\n",
    "    scoring='neg_root_mean_squared_error'\n",
    ")\n",
    "\n",
    "visualizer.fit(transf_X, y)\n",
    "visualizer.show()"
   ]
  },
  {
   "cell_type": "code",
   "execution_count": 34,
   "id": "a8fd0610-5b22-43a2-a720-28d77256a792",
   "metadata": {},
   "outputs": [
    {
     "ename": "TypeError",
     "evalue": "list indices must be integers or slices, not tuple",
     "output_type": "error",
     "traceback": [
      "\u001b[1;31m---------------------------------------------------------------------------\u001b[0m",
      "\u001b[1;31mTypeError\u001b[0m                                 Traceback (most recent call last)",
      "\u001b[1;32m~\\AppData\\Local\\Temp/ipykernel_35900/3795848958.py\u001b[0m in \u001b[0;36m<module>\u001b[1;34m\u001b[0m\n\u001b[0;32m      8\u001b[0m )\n\u001b[0;32m      9\u001b[0m \u001b[1;33m\u001b[0m\u001b[0m\n\u001b[1;32m---> 10\u001b[1;33m \u001b[0mvisualizer\u001b[0m\u001b[1;33m.\u001b[0m\u001b[0mfit\u001b[0m\u001b[1;33m(\u001b[0m\u001b[0mtransf_X\u001b[0m\u001b[1;33m,\u001b[0m \u001b[0my\u001b[0m\u001b[1;33m)\u001b[0m\u001b[1;33m\u001b[0m\u001b[1;33m\u001b[0m\u001b[0m\n\u001b[0m\u001b[0;32m     11\u001b[0m \u001b[0mvisualizer\u001b[0m\u001b[1;33m.\u001b[0m\u001b[0mshow\u001b[0m\u001b[1;33m(\u001b[0m\u001b[1;33m)\u001b[0m\u001b[1;33m\u001b[0m\u001b[1;33m\u001b[0m\u001b[0m\n",
      "\u001b[1;32m~\\anaconda3\\envs\\ML-Apyori\\lib\\site-packages\\yellowbrick\\regressor\\alphas.py\u001b[0m in \u001b[0;36mfit\u001b[1;34m(self, X, y, **args)\u001b[0m\n\u001b[0;32m    340\u001b[0m         \u001b[1;31m# Convert errors to an ND array and draw\u001b[0m\u001b[1;33m\u001b[0m\u001b[1;33m\u001b[0m\u001b[1;33m\u001b[0m\u001b[0m\n\u001b[0;32m    341\u001b[0m         \u001b[0mself\u001b[0m\u001b[1;33m.\u001b[0m\u001b[0merrors\u001b[0m \u001b[1;33m=\u001b[0m \u001b[0mnp\u001b[0m\u001b[1;33m.\u001b[0m\u001b[0marray\u001b[0m\u001b[1;33m(\u001b[0m\u001b[0mself\u001b[0m\u001b[1;33m.\u001b[0m\u001b[0merrors\u001b[0m\u001b[1;33m)\u001b[0m\u001b[1;33m\u001b[0m\u001b[1;33m\u001b[0m\u001b[0m\n\u001b[1;32m--> 342\u001b[1;33m         \u001b[0mself\u001b[0m\u001b[1;33m.\u001b[0m\u001b[0mdraw\u001b[0m\u001b[1;33m(\u001b[0m\u001b[1;33m)\u001b[0m\u001b[1;33m\u001b[0m\u001b[1;33m\u001b[0m\u001b[0m\n\u001b[0m\u001b[0;32m    343\u001b[0m \u001b[1;33m\u001b[0m\u001b[0m\n\u001b[0;32m    344\u001b[0m         \u001b[1;31m# Always make sure to return self from fit\u001b[0m\u001b[1;33m\u001b[0m\u001b[1;33m\u001b[0m\u001b[1;33m\u001b[0m\u001b[0m\n",
      "\u001b[1;32m~\\anaconda3\\envs\\ML-Apyori\\lib\\site-packages\\yellowbrick\\regressor\\alphas.py\u001b[0m in \u001b[0;36mdraw\u001b[1;34m(self)\u001b[0m\n\u001b[0;32m    354\u001b[0m \u001b[1;33m\u001b[0m\u001b[0m\n\u001b[0;32m    355\u001b[0m         \u001b[1;31m# Draw a dashed vline at the alpha with maximal error\u001b[0m\u001b[1;33m\u001b[0m\u001b[1;33m\u001b[0m\u001b[1;33m\u001b[0m\u001b[0m\n\u001b[1;32m--> 356\u001b[1;33m         \u001b[0malpha\u001b[0m \u001b[1;33m=\u001b[0m \u001b[0mself\u001b[0m\u001b[1;33m.\u001b[0m\u001b[0malphas\u001b[0m\u001b[1;33m[\u001b[0m\u001b[0mnp\u001b[0m\u001b[1;33m.\u001b[0m\u001b[0mwhere\u001b[0m\u001b[1;33m(\u001b[0m\u001b[0mself\u001b[0m\u001b[1;33m.\u001b[0m\u001b[0merrors\u001b[0m \u001b[1;33m==\u001b[0m \u001b[0mself\u001b[0m\u001b[1;33m.\u001b[0m\u001b[0merrors\u001b[0m\u001b[1;33m.\u001b[0m\u001b[0mmax\u001b[0m\u001b[1;33m(\u001b[0m\u001b[1;33m)\u001b[0m\u001b[1;33m)\u001b[0m\u001b[1;33m]\u001b[0m\u001b[1;33m[\u001b[0m\u001b[1;36m0\u001b[0m\u001b[1;33m]\u001b[0m\u001b[1;33m\u001b[0m\u001b[1;33m\u001b[0m\u001b[0m\n\u001b[0m\u001b[0;32m    357\u001b[0m         \u001b[0mlabel\u001b[0m \u001b[1;33m=\u001b[0m \u001b[1;34m\"$\\\\alpha_{{max}}={:0.3f}$\"\u001b[0m\u001b[1;33m.\u001b[0m\u001b[0mformat\u001b[0m\u001b[1;33m(\u001b[0m\u001b[0malpha\u001b[0m\u001b[1;33m)\u001b[0m\u001b[1;33m\u001b[0m\u001b[1;33m\u001b[0m\u001b[0m\n\u001b[0;32m    358\u001b[0m         \u001b[0mself\u001b[0m\u001b[1;33m.\u001b[0m\u001b[0max\u001b[0m\u001b[1;33m.\u001b[0m\u001b[0maxvline\u001b[0m\u001b[1;33m(\u001b[0m\u001b[0malpha\u001b[0m\u001b[1;33m,\u001b[0m \u001b[0mcolor\u001b[0m\u001b[1;33m=\u001b[0m\u001b[1;34m\"k\"\u001b[0m\u001b[1;33m,\u001b[0m \u001b[0mlinestyle\u001b[0m\u001b[1;33m=\u001b[0m\u001b[1;34m\"dashed\"\u001b[0m\u001b[1;33m,\u001b[0m \u001b[0mlabel\u001b[0m\u001b[1;33m=\u001b[0m\u001b[0mlabel\u001b[0m\u001b[1;33m)\u001b[0m\u001b[1;33m\u001b[0m\u001b[1;33m\u001b[0m\u001b[0m\n",
      "\u001b[1;31mTypeError\u001b[0m: list indices must be integers or slices, not tuple"
     ]
    },
    {
     "data": {
      "image/png": "[encoded data removed]",
      "text/plain": [
       "<Figure size 432x288 with 1 Axes>"
      ]
     },
     "metadata": {
      "needs_background": "light"
     },
     "output_type": "display_data"
    }
   ],
   "source": [
    "alphas = [0, 0.01, 0.011, 0.012, 0.013, 0.014, 0.015, 0.016, 0.017, 0.018, 0.019, 0.02]\n",
    "\n",
    "visualizer = ManualAlphaSelection(\n",
    "    Lasso(),\n",
    "    alphas= alphas,\n",
    "    cv=5,\n",
    "    scoring='neg_root_mean_squared_error'\n",
    ")\n",
    "\n",
    "visualizer.fit(transf_X, y)\n",
    "visualizer.show()"
   ]
  },
  {
   "cell_type": "code",
   "execution_count": 35,
   "id": "2403511e-a207-451a-922d-f9bf1e956fc8",
   "metadata": {},
   "outputs": [],
   "source": [
    "#create scaler, model, and pipeline object\n",
    "minMax = MinMaxScaler()\n",
    "lasso_mdl = Lasso(alpha = 0.01)\n",
    "pipe_object = Pipeline(steps = [('scale', minMax), ('lasso_mdl', lasso_mdl)])"
   ]
  },
  {
   "cell_type": "code",
   "execution_count": 36,
   "id": "c40a1872-136c-409d-ac4e-e2a342e44628",
   "metadata": {},
   "outputs": [
    {
     "data": {
      "text/plain": [
       "Pipeline(steps=[('scale', MinMaxScaler()), ('lasso_mdl', Lasso(alpha=0.01))])"
      ]
     },
     "execution_count": 36,
     "metadata": {},
     "output_type": "execute_result"
    }
   ],
   "source": [
    "#fit the model on X and y data\n",
    "pipe_object.fit(X, y)"
   ]
  },
  {
   "cell_type": "code",
   "execution_count": 37,
   "id": "3ee3fe6e-3e89-47b0-a941-476064bb2bf4",
   "metadata": {},
   "outputs": [
    {
     "name": "stdout",
     "output_type": "stream",
     "text": [
      "[   0.            6.50313075   -7.69671446    0.           -0.\n",
      "  -11.69072196   32.68762313   36.44878551   -2.56788149   -0.\n",
      "  -36.27127004    1.47922229    0.            8.16491514    0.\n",
      "    0.            4.00136624   24.88898948    0.          -20.14364417\n",
      "   -4.47740328   -0.           16.34513686  -18.07363137    0.\n",
      "   -0.            0.           24.01104506   -8.55883245  -32.53829465\n",
      "   18.16875944   -0.            0.40083011  -17.69176417    4.27375669\n",
      "  -17.08551382  -19.78186593   -9.43605528    9.39761335   -0.\n",
      "   -2.0864171    18.48412728    0.            0.          -31.10530272\n",
      "   -0.          -27.73921481  -38.92565644  -11.70115539   60.90969337\n",
      "  -12.08496014   -0.            0.           -0.            0.\n",
      "   -2.04557864   23.88713326   -3.89597127   22.2648786     0.\n",
      "  -12.32918422    0.          104.36659089  -26.75414932  -60.4181233\n",
      "    6.50411583   18.22104647   -5.84747144  -35.11225603    0.\n",
      "   29.82050163   -0.            0.           -0.            0.\n",
      "    0.           -0.            9.82207503   14.09034726   -0.\n",
      "  -39.33653854   -0.            0.            5.11570027   -0.\n",
      "   -0.            0.           -0.           -0.            0.\n",
      "    0.           -0.            0.           -0.         -113.61201378\n",
      "   -0.          -16.35703377  -33.07235601    0.            0.\n",
      "   27.14880397   -0.           -1.00307238    0.            0.\n",
      "    0.            0.           -0.           -0.           -0.\n",
      "   -0.            3.83925386   -9.3594481    -5.20977993   -1.79923125\n",
      "   -0.            0.            0.97335099   -1.00666079   -0.\n",
      "   -1.11619797    2.26243566   -0.            0.           -0.\n",
      "   -0.           -0.          -38.4034195    -0.            0.\n",
      "    0.           -0.           -0.            0.            0.\n",
      "    0.          174.28868735   -0.           -8.79405924   -0.\n",
      "  -10.4967309     0.           -0.           -6.0262017    -4.9153831\n",
      "    0.            0.            0.            0.           -0.\n",
      "    0.            7.81934589   -0.           -0.           -0.\n",
      "   -0.            0.           -0.            0.           -0.\n",
      "   48.71443635   20.10738685    0.           77.59774579    0.\n",
      "    0.            0.        ]\n",
      "7.8972943821622295\n"
     ]
    }
   ],
   "source": [
    "#print the raw coefficents and the intercept\n",
    "print(lasso_mdl.coef_)\n",
    "print(lasso_mdl.intercept_)"
   ]
  },
  {
   "cell_type": "code",
   "execution_count": 38,
   "id": "534b85e2-349f-48bb-9537-29ec72010d2e",
   "metadata": {},
   "outputs": [],
   "source": [
    "#create a dataframe of just the selected columns\n",
    "lasso_columns = X.iloc[:, lasso_mdl.coef_ != 0]"
   ]
  },
  {
   "cell_type": "code",
   "execution_count": 39,
   "id": "693d8af6-ca06-4db7-96b9-c283b4bd7ca2",
   "metadata": {
    "tags": []
   },
   "outputs": [],
   "source": [
    "#convert the column names to a list\n",
    "lasso_names = list(lasso_columns.columns)"
   ]
  },
  {
   "cell_type": "code",
   "execution_count": 40,
   "id": "9b41b594-3dfe-4aa9-bb04-097687549efe",
   "metadata": {},
   "outputs": [],
   "source": [
    "#create a list of the coefficent values\n",
    "lasso_coef = list(lasso_mdl.coef_)\n",
    "lasso_coef = [x for x in lasso_coef if x != 0]"
   ]
  },
  {
   "cell_type": "code",
   "execution_count": 41,
   "id": "c9c942d2-7ebf-4db5-9357-1b627a5d52e4",
   "metadata": {},
   "outputs": [],
   "source": [
    "#create a data frame to hold the selected columns, their coefficent values, and the absolute value of their coefficents\n",
    "#then display most important coeffecient at the top\n",
    "lasso_variables = pd.DataFrame()\n",
    "lasso_variables['Column_Names'] = lasso_names\n",
    "lasso_variables['Coef_Value'] = lasso_coef\n",
    "lasso_variables['Abslt_Coef_Value'] = abs(lasso_variables['Coef_Value'])\n",
    "lasso_variables = lasso_variables.sort_values(['Abslt_Coef_Value'], ascending = False)\n",
    "lasso_variables.reset_index(drop=True, inplace=True)"
   ]
  },
  {
   "cell_type": "code",
   "execution_count": 42,
   "id": "db13f76e-7e3b-4e42-aa6b-f0e7ab9a0df6",
   "metadata": {},
   "outputs": [
    {
     "data": {
      "text/html": [
       "<div>\n",
       "<style scoped>\n",
       "    .dataframe tbody tr th:only-of-type {\n",
       "        vertical-align: middle;\n",
       "    }\n",
       "\n",
       "    .dataframe tbody tr th {\n",
       "        vertical-align: top;\n",
       "    }\n",
       "\n",
       "    .dataframe thead th {\n",
       "        text-align: right;\n",
       "    }\n",
       "</style>\n",
       "<table border=\"1\" class=\"dataframe\">\n",
       "  <thead>\n",
       "    <tr style=\"text-align: right;\">\n",
       "      <th></th>\n",
       "      <th>Column_Names</th>\n",
       "      <th>Coef_Value</th>\n",
       "      <th>Abslt_Coef_Value</th>\n",
       "    </tr>\n",
       "  </thead>\n",
       "  <tbody>\n",
       "    <tr>\n",
       "      <th>0</th>\n",
       "      <td>Ba</td>\n",
       "      <td>174.288687</td>\n",
       "      <td>174.288687</td>\n",
       "    </tr>\n",
       "    <tr>\n",
       "      <th>1</th>\n",
       "      <td>Si</td>\n",
       "      <td>-113.612014</td>\n",
       "      <td>113.612014</td>\n",
       "    </tr>\n",
       "    <tr>\n",
       "      <th>2</th>\n",
       "      <td>wtd_mean_ThermalConductivity</td>\n",
       "      <td>104.366591</td>\n",
       "      <td>104.366591</td>\n",
       "    </tr>\n",
       "    <tr>\n",
       "      <th>3</th>\n",
       "      <td>Bi</td>\n",
       "      <td>77.597746</td>\n",
       "      <td>77.597746</td>\n",
       "    </tr>\n",
       "    <tr>\n",
       "      <th>4</th>\n",
       "      <td>std_ElectronAffinity</td>\n",
       "      <td>60.909693</td>\n",
       "      <td>60.909693</td>\n",
       "    </tr>\n",
       "    <tr>\n",
       "      <th>...</th>\n",
       "      <td>...</td>\n",
       "      <td>...</td>\n",
       "      <td>...</td>\n",
       "    </tr>\n",
       "    <tr>\n",
       "      <th>69</th>\n",
       "      <td>Zr</td>\n",
       "      <td>-1.116198</td>\n",
       "      <td>1.116198</td>\n",
       "    </tr>\n",
       "    <tr>\n",
       "      <th>70</th>\n",
       "      <td>Sr</td>\n",
       "      <td>-1.006661</td>\n",
       "      <td>1.006661</td>\n",
       "    </tr>\n",
       "    <tr>\n",
       "      <th>71</th>\n",
       "      <td>Ti</td>\n",
       "      <td>-1.003072</td>\n",
       "      <td>1.003072</td>\n",
       "    </tr>\n",
       "    <tr>\n",
       "      <th>72</th>\n",
       "      <td>Rb</td>\n",
       "      <td>0.973351</td>\n",
       "      <td>0.973351</td>\n",
       "    </tr>\n",
       "    <tr>\n",
       "      <th>73</th>\n",
       "      <td>wtd_mean_Density</td>\n",
       "      <td>0.400830</td>\n",
       "      <td>0.400830</td>\n",
       "    </tr>\n",
       "  </tbody>\n",
       "</table>\n",
       "<p>74 rows × 3 columns</p>\n",
       "</div>"
      ],
      "text/plain": [
       "                    Column_Names  Coef_Value  Abslt_Coef_Value\n",
       "0                             Ba  174.288687        174.288687\n",
       "1                             Si -113.612014        113.612014\n",
       "2   wtd_mean_ThermalConductivity  104.366591        104.366591\n",
       "3                             Bi   77.597746         77.597746\n",
       "4           std_ElectronAffinity   60.909693         60.909693\n",
       "..                           ...         ...               ...\n",
       "69                            Zr   -1.116198          1.116198\n",
       "70                            Sr   -1.006661          1.006661\n",
       "71                            Ti   -1.003072          1.003072\n",
       "72                            Rb    0.973351          0.973351\n",
       "73              wtd_mean_Density    0.400830          0.400830\n",
       "\n",
       "[74 rows x 3 columns]"
      ]
     },
     "execution_count": 42,
     "metadata": {},
     "output_type": "execute_result"
    }
   ],
   "source": [
    "lasso_variables"
   ]
  },
  {
   "cell_type": "code",
   "execution_count": 43,
   "id": "c2587cad-a1c0-464f-9d0a-89ddf3ec0728",
   "metadata": {},
   "outputs": [],
   "source": [
    "lasso_scores = cross_val_score(lasso_mdl, transf_X, y, scoring = 'neg_root_mean_squared_error', cv=5)"
   ]
  },
  {
   "cell_type": "code",
   "execution_count": 44,
   "id": "e2060229-aa34-4bb1-9d01-641b7dc0bc27",
   "metadata": {},
   "outputs": [],
   "source": [
    "avg_lasso_scores = (sum(lasso_scores)/len(lasso_scores))"
   ]
  },
  {
   "cell_type": "code",
   "execution_count": 45,
   "id": "76f8ae9f-5d62-431e-9a42-c8ff4d8e6e23",
   "metadata": {},
   "outputs": [
    {
     "name": "stdout",
     "output_type": "stream",
     "text": [
      "The average RMSE for the Lasso model with 0.01 alpha is: 18.229452949323765\n"
     ]
    }
   ],
   "source": [
    "print('The average RMSE for the Lasso model with 0.01 alpha is: ' + str(abs(avg_lasso_scores))) "
   ]
  },
  {
   "cell_type": "markdown",
   "id": "a4d6db3c-ef46-42e3-859c-affa8c65e51e",
   "metadata": {},
   "source": [
    "Note: Barium has a very high positive coefficient. Meaning the temperature for super conducting raises by ~174 Kelvin if the sample were to be entirely made of Barium. Negative coefficients lower the temp = better for conductivity. \n",
    "\n",
    "The intercept is 7.8972943821622295. If nothing was present in the sample (not realistic) we would expect the sample to be a super conductor at 7.90 K (?)."
   ]
  },
  {
   "cell_type": "markdown",
   "id": "d881f052-8929-44f3-9bbc-66bc6507b96b",
   "metadata": {},
   "source": [
    "### Ridge"
   ]
  },
  {
   "cell_type": "code",
   "execution_count": 46,
   "id": "b0d95fd2-0fc9-47db-bf98-8417fba78173",
   "metadata": {},
   "outputs": [
    {
     "ename": "TypeError",
     "evalue": "list indices must be integers or slices, not tuple",
     "output_type": "error",
     "traceback": [
      "\u001b[1;31m---------------------------------------------------------------------------\u001b[0m",
      "\u001b[1;31mTypeError\u001b[0m                                 Traceback (most recent call last)",
      "\u001b[1;32m~\\AppData\\Local\\Temp/ipykernel_35900/1886141340.py\u001b[0m in \u001b[0;36m<module>\u001b[1;34m\u001b[0m\n\u001b[0;32m     10\u001b[0m )\n\u001b[0;32m     11\u001b[0m \u001b[1;33m\u001b[0m\u001b[0m\n\u001b[1;32m---> 12\u001b[1;33m \u001b[0mvisualizer\u001b[0m\u001b[1;33m.\u001b[0m\u001b[0mfit\u001b[0m\u001b[1;33m(\u001b[0m\u001b[0mtransf_X\u001b[0m\u001b[1;33m,\u001b[0m \u001b[0my\u001b[0m\u001b[1;33m)\u001b[0m\u001b[1;33m\u001b[0m\u001b[1;33m\u001b[0m\u001b[0m\n\u001b[0m\u001b[0;32m     13\u001b[0m \u001b[0mvisualizer\u001b[0m\u001b[1;33m.\u001b[0m\u001b[0mshow\u001b[0m\u001b[1;33m(\u001b[0m\u001b[1;33m)\u001b[0m\u001b[1;33m\u001b[0m\u001b[1;33m\u001b[0m\u001b[0m\n",
      "\u001b[1;32m~\\anaconda3\\envs\\ML-Apyori\\lib\\site-packages\\yellowbrick\\regressor\\alphas.py\u001b[0m in \u001b[0;36mfit\u001b[1;34m(self, X, y, **args)\u001b[0m\n\u001b[0;32m    340\u001b[0m         \u001b[1;31m# Convert errors to an ND array and draw\u001b[0m\u001b[1;33m\u001b[0m\u001b[1;33m\u001b[0m\u001b[1;33m\u001b[0m\u001b[0m\n\u001b[0;32m    341\u001b[0m         \u001b[0mself\u001b[0m\u001b[1;33m.\u001b[0m\u001b[0merrors\u001b[0m \u001b[1;33m=\u001b[0m \u001b[0mnp\u001b[0m\u001b[1;33m.\u001b[0m\u001b[0marray\u001b[0m\u001b[1;33m(\u001b[0m\u001b[0mself\u001b[0m\u001b[1;33m.\u001b[0m\u001b[0merrors\u001b[0m\u001b[1;33m)\u001b[0m\u001b[1;33m\u001b[0m\u001b[1;33m\u001b[0m\u001b[0m\n\u001b[1;32m--> 342\u001b[1;33m         \u001b[0mself\u001b[0m\u001b[1;33m.\u001b[0m\u001b[0mdraw\u001b[0m\u001b[1;33m(\u001b[0m\u001b[1;33m)\u001b[0m\u001b[1;33m\u001b[0m\u001b[1;33m\u001b[0m\u001b[0m\n\u001b[0m\u001b[0;32m    343\u001b[0m \u001b[1;33m\u001b[0m\u001b[0m\n\u001b[0;32m    344\u001b[0m         \u001b[1;31m# Always make sure to return self from fit\u001b[0m\u001b[1;33m\u001b[0m\u001b[1;33m\u001b[0m\u001b[1;33m\u001b[0m\u001b[0m\n",
      "\u001b[1;32m~\\anaconda3\\envs\\ML-Apyori\\lib\\site-packages\\yellowbrick\\regressor\\alphas.py\u001b[0m in \u001b[0;36mdraw\u001b[1;34m(self)\u001b[0m\n\u001b[0;32m    354\u001b[0m \u001b[1;33m\u001b[0m\u001b[0m\n\u001b[0;32m    355\u001b[0m         \u001b[1;31m# Draw a dashed vline at the alpha with maximal error\u001b[0m\u001b[1;33m\u001b[0m\u001b[1;33m\u001b[0m\u001b[1;33m\u001b[0m\u001b[0m\n\u001b[1;32m--> 356\u001b[1;33m         \u001b[0malpha\u001b[0m \u001b[1;33m=\u001b[0m \u001b[0mself\u001b[0m\u001b[1;33m.\u001b[0m\u001b[0malphas\u001b[0m\u001b[1;33m[\u001b[0m\u001b[0mnp\u001b[0m\u001b[1;33m.\u001b[0m\u001b[0mwhere\u001b[0m\u001b[1;33m(\u001b[0m\u001b[0mself\u001b[0m\u001b[1;33m.\u001b[0m\u001b[0merrors\u001b[0m \u001b[1;33m==\u001b[0m \u001b[0mself\u001b[0m\u001b[1;33m.\u001b[0m\u001b[0merrors\u001b[0m\u001b[1;33m.\u001b[0m\u001b[0mmax\u001b[0m\u001b[1;33m(\u001b[0m\u001b[1;33m)\u001b[0m\u001b[1;33m)\u001b[0m\u001b[1;33m]\u001b[0m\u001b[1;33m[\u001b[0m\u001b[1;36m0\u001b[0m\u001b[1;33m]\u001b[0m\u001b[1;33m\u001b[0m\u001b[1;33m\u001b[0m\u001b[0m\n\u001b[0m\u001b[0;32m    357\u001b[0m         \u001b[0mlabel\u001b[0m \u001b[1;33m=\u001b[0m \u001b[1;34m\"$\\\\alpha_{{max}}={:0.3f}$\"\u001b[0m\u001b[1;33m.\u001b[0m\u001b[0mformat\u001b[0m\u001b[1;33m(\u001b[0m\u001b[0malpha\u001b[0m\u001b[1;33m)\u001b[0m\u001b[1;33m\u001b[0m\u001b[1;33m\u001b[0m\u001b[0m\n\u001b[0;32m    358\u001b[0m         \u001b[0mself\u001b[0m\u001b[1;33m.\u001b[0m\u001b[0max\u001b[0m\u001b[1;33m.\u001b[0m\u001b[0maxvline\u001b[0m\u001b[1;33m(\u001b[0m\u001b[0malpha\u001b[0m\u001b[1;33m,\u001b[0m \u001b[0mcolor\u001b[0m\u001b[1;33m=\u001b[0m\u001b[1;34m\"k\"\u001b[0m\u001b[1;33m,\u001b[0m \u001b[0mlinestyle\u001b[0m\u001b[1;33m=\u001b[0m\u001b[1;34m\"dashed\"\u001b[0m\u001b[1;33m,\u001b[0m \u001b[0mlabel\u001b[0m\u001b[1;33m=\u001b[0m\u001b[0mlabel\u001b[0m\u001b[1;33m)\u001b[0m\u001b[1;33m\u001b[0m\u001b[1;33m\u001b[0m\u001b[0m\n",
      "\u001b[1;31mTypeError\u001b[0m: list indices must be integers or slices, not tuple"
     ]
    },
    {
     "data": {
      "image/png": "[encoded data removed]",
      "text/plain": [
       "<Figure size 432x288 with 1 Axes>"
      ]
     },
     "metadata": {
      "needs_background": "light"
     },
     "output_type": "display_data"
    }
   ],
   "source": [
    "#using yellow bricks to find potential values of Alpha for ridge\n",
    "#uses negative RMSE, higher value is better\n",
    "alphas = [x / 10 for x in range(100)]\n",
    "\n",
    "visualizer = ManualAlphaSelection(\n",
    "    Ridge(),\n",
    "    alphas= alphas,\n",
    "    cv=5,\n",
    "    scoring='neg_root_mean_squared_error'\n",
    ")\n",
    "\n",
    "visualizer.fit(transf_X, y)\n",
    "visualizer.show()"
   ]
  },
  {
   "cell_type": "code",
   "execution_count": 47,
   "id": "26f078b7-3f1b-40c1-80d0-ea4f0c16fb0b",
   "metadata": {},
   "outputs": [
    {
     "ename": "TypeError",
     "evalue": "list indices must be integers or slices, not tuple",
     "output_type": "error",
     "traceback": [
      "\u001b[1;31m---------------------------------------------------------------------------\u001b[0m",
      "\u001b[1;31mTypeError\u001b[0m                                 Traceback (most recent call last)",
      "\u001b[1;32m~\\AppData\\Local\\Temp/ipykernel_35900/1333785624.py\u001b[0m in \u001b[0;36m<module>\u001b[1;34m\u001b[0m\n\u001b[0;32m      9\u001b[0m )\n\u001b[0;32m     10\u001b[0m \u001b[1;33m\u001b[0m\u001b[0m\n\u001b[1;32m---> 11\u001b[1;33m \u001b[0mvisualizer\u001b[0m\u001b[1;33m.\u001b[0m\u001b[0mfit\u001b[0m\u001b[1;33m(\u001b[0m\u001b[0mtransf_X\u001b[0m\u001b[1;33m,\u001b[0m \u001b[0my\u001b[0m\u001b[1;33m)\u001b[0m\u001b[1;33m\u001b[0m\u001b[1;33m\u001b[0m\u001b[0m\n\u001b[0m\u001b[0;32m     12\u001b[0m \u001b[0mvisualizer\u001b[0m\u001b[1;33m.\u001b[0m\u001b[0mshow\u001b[0m\u001b[1;33m(\u001b[0m\u001b[1;33m)\u001b[0m\u001b[1;33m\u001b[0m\u001b[1;33m\u001b[0m\u001b[0m\n",
      "\u001b[1;32m~\\anaconda3\\envs\\ML-Apyori\\lib\\site-packages\\yellowbrick\\regressor\\alphas.py\u001b[0m in \u001b[0;36mfit\u001b[1;34m(self, X, y, **args)\u001b[0m\n\u001b[0;32m    340\u001b[0m         \u001b[1;31m# Convert errors to an ND array and draw\u001b[0m\u001b[1;33m\u001b[0m\u001b[1;33m\u001b[0m\u001b[1;33m\u001b[0m\u001b[0m\n\u001b[0;32m    341\u001b[0m         \u001b[0mself\u001b[0m\u001b[1;33m.\u001b[0m\u001b[0merrors\u001b[0m \u001b[1;33m=\u001b[0m \u001b[0mnp\u001b[0m\u001b[1;33m.\u001b[0m\u001b[0marray\u001b[0m\u001b[1;33m(\u001b[0m\u001b[0mself\u001b[0m\u001b[1;33m.\u001b[0m\u001b[0merrors\u001b[0m\u001b[1;33m)\u001b[0m\u001b[1;33m\u001b[0m\u001b[1;33m\u001b[0m\u001b[0m\n\u001b[1;32m--> 342\u001b[1;33m         \u001b[0mself\u001b[0m\u001b[1;33m.\u001b[0m\u001b[0mdraw\u001b[0m\u001b[1;33m(\u001b[0m\u001b[1;33m)\u001b[0m\u001b[1;33m\u001b[0m\u001b[1;33m\u001b[0m\u001b[0m\n\u001b[0m\u001b[0;32m    343\u001b[0m \u001b[1;33m\u001b[0m\u001b[0m\n\u001b[0;32m    344\u001b[0m         \u001b[1;31m# Always make sure to return self from fit\u001b[0m\u001b[1;33m\u001b[0m\u001b[1;33m\u001b[0m\u001b[1;33m\u001b[0m\u001b[0m\n",
      "\u001b[1;32m~\\anaconda3\\envs\\ML-Apyori\\lib\\site-packages\\yellowbrick\\regressor\\alphas.py\u001b[0m in \u001b[0;36mdraw\u001b[1;34m(self)\u001b[0m\n\u001b[0;32m    354\u001b[0m \u001b[1;33m\u001b[0m\u001b[0m\n\u001b[0;32m    355\u001b[0m         \u001b[1;31m# Draw a dashed vline at the alpha with maximal error\u001b[0m\u001b[1;33m\u001b[0m\u001b[1;33m\u001b[0m\u001b[1;33m\u001b[0m\u001b[0m\n\u001b[1;32m--> 356\u001b[1;33m         \u001b[0malpha\u001b[0m \u001b[1;33m=\u001b[0m \u001b[0mself\u001b[0m\u001b[1;33m.\u001b[0m\u001b[0malphas\u001b[0m\u001b[1;33m[\u001b[0m\u001b[0mnp\u001b[0m\u001b[1;33m.\u001b[0m\u001b[0mwhere\u001b[0m\u001b[1;33m(\u001b[0m\u001b[0mself\u001b[0m\u001b[1;33m.\u001b[0m\u001b[0merrors\u001b[0m \u001b[1;33m==\u001b[0m \u001b[0mself\u001b[0m\u001b[1;33m.\u001b[0m\u001b[0merrors\u001b[0m\u001b[1;33m.\u001b[0m\u001b[0mmax\u001b[0m\u001b[1;33m(\u001b[0m\u001b[1;33m)\u001b[0m\u001b[1;33m)\u001b[0m\u001b[1;33m]\u001b[0m\u001b[1;33m[\u001b[0m\u001b[1;36m0\u001b[0m\u001b[1;33m]\u001b[0m\u001b[1;33m\u001b[0m\u001b[1;33m\u001b[0m\u001b[0m\n\u001b[0m\u001b[0;32m    357\u001b[0m         \u001b[0mlabel\u001b[0m \u001b[1;33m=\u001b[0m \u001b[1;34m\"$\\\\alpha_{{max}}={:0.3f}$\"\u001b[0m\u001b[1;33m.\u001b[0m\u001b[0mformat\u001b[0m\u001b[1;33m(\u001b[0m\u001b[0malpha\u001b[0m\u001b[1;33m)\u001b[0m\u001b[1;33m\u001b[0m\u001b[1;33m\u001b[0m\u001b[0m\n\u001b[0;32m    358\u001b[0m         \u001b[0mself\u001b[0m\u001b[1;33m.\u001b[0m\u001b[0max\u001b[0m\u001b[1;33m.\u001b[0m\u001b[0maxvline\u001b[0m\u001b[1;33m(\u001b[0m\u001b[0malpha\u001b[0m\u001b[1;33m,\u001b[0m \u001b[0mcolor\u001b[0m\u001b[1;33m=\u001b[0m\u001b[1;34m\"k\"\u001b[0m\u001b[1;33m,\u001b[0m \u001b[0mlinestyle\u001b[0m\u001b[1;33m=\u001b[0m\u001b[1;34m\"dashed\"\u001b[0m\u001b[1;33m,\u001b[0m \u001b[0mlabel\u001b[0m\u001b[1;33m=\u001b[0m\u001b[0mlabel\u001b[0m\u001b[1;33m)\u001b[0m\u001b[1;33m\u001b[0m\u001b[1;33m\u001b[0m\u001b[0m\n",
      "\u001b[1;31mTypeError\u001b[0m: list indices must be integers or slices, not tuple"
     ]
    },
    {
     "data": {
      "image/png": "[encoded data removed]",
      "text/plain": [
       "<Figure size 432x288 with 1 Axes>"
      ]
     },
     "metadata": {
      "needs_background": "light"
     },
     "output_type": "display_data"
    }
   ],
   "source": [
    "#narrowing in on best alpha\n",
    "alphas = [0.5, 1.0, 1.5, 2.0, 2.5, 3.0, 3.5, 4.0]\n",
    "\n",
    "visualizer = ManualAlphaSelection(\n",
    "    Ridge(),\n",
    "    alphas= alphas,\n",
    "    cv=5,\n",
    "    scoring='neg_root_mean_squared_error'\n",
    ")\n",
    "\n",
    "visualizer.fit(transf_X, y)\n",
    "visualizer.show()"
   ]
  },
  {
   "cell_type": "code",
   "execution_count": 48,
   "id": "6d13a103-77a4-476a-b91f-5051a0b7013d",
   "metadata": {},
   "outputs": [
    {
     "ename": "TypeError",
     "evalue": "list indices must be integers or slices, not tuple",
     "output_type": "error",
     "traceback": [
      "\u001b[1;31m---------------------------------------------------------------------------\u001b[0m",
      "\u001b[1;31mTypeError\u001b[0m                                 Traceback (most recent call last)",
      "\u001b[1;32m~\\AppData\\Local\\Temp/ipykernel_35900/1544340663.py\u001b[0m in \u001b[0;36m<module>\u001b[1;34m\u001b[0m\n\u001b[0;32m      9\u001b[0m )\n\u001b[0;32m     10\u001b[0m \u001b[1;33m\u001b[0m\u001b[0m\n\u001b[1;32m---> 11\u001b[1;33m \u001b[0mvisualizer\u001b[0m\u001b[1;33m.\u001b[0m\u001b[0mfit\u001b[0m\u001b[1;33m(\u001b[0m\u001b[0mtransf_X\u001b[0m\u001b[1;33m,\u001b[0m \u001b[0my\u001b[0m\u001b[1;33m)\u001b[0m\u001b[1;33m\u001b[0m\u001b[1;33m\u001b[0m\u001b[0m\n\u001b[0m\u001b[0;32m     12\u001b[0m \u001b[0mvisualizer\u001b[0m\u001b[1;33m.\u001b[0m\u001b[0mshow\u001b[0m\u001b[1;33m(\u001b[0m\u001b[1;33m)\u001b[0m\u001b[1;33m\u001b[0m\u001b[1;33m\u001b[0m\u001b[0m\n",
      "\u001b[1;32m~\\anaconda3\\envs\\ML-Apyori\\lib\\site-packages\\yellowbrick\\regressor\\alphas.py\u001b[0m in \u001b[0;36mfit\u001b[1;34m(self, X, y, **args)\u001b[0m\n\u001b[0;32m    340\u001b[0m         \u001b[1;31m# Convert errors to an ND array and draw\u001b[0m\u001b[1;33m\u001b[0m\u001b[1;33m\u001b[0m\u001b[1;33m\u001b[0m\u001b[0m\n\u001b[0;32m    341\u001b[0m         \u001b[0mself\u001b[0m\u001b[1;33m.\u001b[0m\u001b[0merrors\u001b[0m \u001b[1;33m=\u001b[0m \u001b[0mnp\u001b[0m\u001b[1;33m.\u001b[0m\u001b[0marray\u001b[0m\u001b[1;33m(\u001b[0m\u001b[0mself\u001b[0m\u001b[1;33m.\u001b[0m\u001b[0merrors\u001b[0m\u001b[1;33m)\u001b[0m\u001b[1;33m\u001b[0m\u001b[1;33m\u001b[0m\u001b[0m\n\u001b[1;32m--> 342\u001b[1;33m         \u001b[0mself\u001b[0m\u001b[1;33m.\u001b[0m\u001b[0mdraw\u001b[0m\u001b[1;33m(\u001b[0m\u001b[1;33m)\u001b[0m\u001b[1;33m\u001b[0m\u001b[1;33m\u001b[0m\u001b[0m\n\u001b[0m\u001b[0;32m    343\u001b[0m \u001b[1;33m\u001b[0m\u001b[0m\n\u001b[0;32m    344\u001b[0m         \u001b[1;31m# Always make sure to return self from fit\u001b[0m\u001b[1;33m\u001b[0m\u001b[1;33m\u001b[0m\u001b[1;33m\u001b[0m\u001b[0m\n",
      "\u001b[1;32m~\\anaconda3\\envs\\ML-Apyori\\lib\\site-packages\\yellowbrick\\regressor\\alphas.py\u001b[0m in \u001b[0;36mdraw\u001b[1;34m(self)\u001b[0m\n\u001b[0;32m    354\u001b[0m \u001b[1;33m\u001b[0m\u001b[0m\n\u001b[0;32m    355\u001b[0m         \u001b[1;31m# Draw a dashed vline at the alpha with maximal error\u001b[0m\u001b[1;33m\u001b[0m\u001b[1;33m\u001b[0m\u001b[1;33m\u001b[0m\u001b[0m\n\u001b[1;32m--> 356\u001b[1;33m         \u001b[0malpha\u001b[0m \u001b[1;33m=\u001b[0m \u001b[0mself\u001b[0m\u001b[1;33m.\u001b[0m\u001b[0malphas\u001b[0m\u001b[1;33m[\u001b[0m\u001b[0mnp\u001b[0m\u001b[1;33m.\u001b[0m\u001b[0mwhere\u001b[0m\u001b[1;33m(\u001b[0m\u001b[0mself\u001b[0m\u001b[1;33m.\u001b[0m\u001b[0merrors\u001b[0m \u001b[1;33m==\u001b[0m \u001b[0mself\u001b[0m\u001b[1;33m.\u001b[0m\u001b[0merrors\u001b[0m\u001b[1;33m.\u001b[0m\u001b[0mmax\u001b[0m\u001b[1;33m(\u001b[0m\u001b[1;33m)\u001b[0m\u001b[1;33m)\u001b[0m\u001b[1;33m]\u001b[0m\u001b[1;33m[\u001b[0m\u001b[1;36m0\u001b[0m\u001b[1;33m]\u001b[0m\u001b[1;33m\u001b[0m\u001b[1;33m\u001b[0m\u001b[0m\n\u001b[0m\u001b[0;32m    357\u001b[0m         \u001b[0mlabel\u001b[0m \u001b[1;33m=\u001b[0m \u001b[1;34m\"$\\\\alpha_{{max}}={:0.3f}$\"\u001b[0m\u001b[1;33m.\u001b[0m\u001b[0mformat\u001b[0m\u001b[1;33m(\u001b[0m\u001b[0malpha\u001b[0m\u001b[1;33m)\u001b[0m\u001b[1;33m\u001b[0m\u001b[1;33m\u001b[0m\u001b[0m\n\u001b[0;32m    358\u001b[0m         \u001b[0mself\u001b[0m\u001b[1;33m.\u001b[0m\u001b[0max\u001b[0m\u001b[1;33m.\u001b[0m\u001b[0maxvline\u001b[0m\u001b[1;33m(\u001b[0m\u001b[0malpha\u001b[0m\u001b[1;33m,\u001b[0m \u001b[0mcolor\u001b[0m\u001b[1;33m=\u001b[0m\u001b[1;34m\"k\"\u001b[0m\u001b[1;33m,\u001b[0m \u001b[0mlinestyle\u001b[0m\u001b[1;33m=\u001b[0m\u001b[1;34m\"dashed\"\u001b[0m\u001b[1;33m,\u001b[0m \u001b[0mlabel\u001b[0m\u001b[1;33m=\u001b[0m\u001b[0mlabel\u001b[0m\u001b[1;33m)\u001b[0m\u001b[1;33m\u001b[0m\u001b[1;33m\u001b[0m\u001b[0m\n",
      "\u001b[1;31mTypeError\u001b[0m: list indices must be integers or slices, not tuple"
     ]
    },
    {
     "data": {
      "image/png": "[encoded data removed]",
      "text/plain": [
       "<Figure size 432x288 with 1 Axes>"
      ]
     },
     "metadata": {
      "needs_background": "light"
     },
     "output_type": "display_data"
    }
   ],
   "source": [
    "#narrowing in on best alpha\n",
    "alphas = [1.0, 1.1, 1.2, 1.3, 1.4, 1.5, 1.6, 1.7, 1.8, 1.9, 2.0, 2.1, 2.2, 2.3, 2.4, 2.5]\n",
    "\n",
    "visualizer = ManualAlphaSelection(\n",
    "    Ridge(),\n",
    "    alphas= alphas,\n",
    "    cv=5,\n",
    "    scoring='neg_root_mean_squared_error'\n",
    ")\n",
    "\n",
    "visualizer.fit(transf_X, y)\n",
    "visualizer.show()"
   ]
  },
  {
   "cell_type": "code",
   "execution_count": 49,
   "id": "eb0f151e-6d55-4ac0-a110-e94ad74b3a4a",
   "metadata": {},
   "outputs": [
    {
     "ename": "TypeError",
     "evalue": "list indices must be integers or slices, not tuple",
     "output_type": "error",
     "traceback": [
      "\u001b[1;31m---------------------------------------------------------------------------\u001b[0m",
      "\u001b[1;31mTypeError\u001b[0m                                 Traceback (most recent call last)",
      "\u001b[1;32m~\\AppData\\Local\\Temp/ipykernel_35900/212210957.py\u001b[0m in \u001b[0;36m<module>\u001b[1;34m\u001b[0m\n\u001b[0;32m      8\u001b[0m )\n\u001b[0;32m      9\u001b[0m \u001b[1;33m\u001b[0m\u001b[0m\n\u001b[1;32m---> 10\u001b[1;33m \u001b[0mvisualizer\u001b[0m\u001b[1;33m.\u001b[0m\u001b[0mfit\u001b[0m\u001b[1;33m(\u001b[0m\u001b[0mtransf_X\u001b[0m\u001b[1;33m,\u001b[0m \u001b[0my\u001b[0m\u001b[1;33m)\u001b[0m\u001b[1;33m\u001b[0m\u001b[1;33m\u001b[0m\u001b[0m\n\u001b[0m\u001b[0;32m     11\u001b[0m \u001b[0mvisualizer\u001b[0m\u001b[1;33m.\u001b[0m\u001b[0mshow\u001b[0m\u001b[1;33m(\u001b[0m\u001b[1;33m)\u001b[0m\u001b[1;33m\u001b[0m\u001b[1;33m\u001b[0m\u001b[0m\n",
      "\u001b[1;32m~\\anaconda3\\envs\\ML-Apyori\\lib\\site-packages\\yellowbrick\\regressor\\alphas.py\u001b[0m in \u001b[0;36mfit\u001b[1;34m(self, X, y, **args)\u001b[0m\n\u001b[0;32m    340\u001b[0m         \u001b[1;31m# Convert errors to an ND array and draw\u001b[0m\u001b[1;33m\u001b[0m\u001b[1;33m\u001b[0m\u001b[1;33m\u001b[0m\u001b[0m\n\u001b[0;32m    341\u001b[0m         \u001b[0mself\u001b[0m\u001b[1;33m.\u001b[0m\u001b[0merrors\u001b[0m \u001b[1;33m=\u001b[0m \u001b[0mnp\u001b[0m\u001b[1;33m.\u001b[0m\u001b[0marray\u001b[0m\u001b[1;33m(\u001b[0m\u001b[0mself\u001b[0m\u001b[1;33m.\u001b[0m\u001b[0merrors\u001b[0m\u001b[1;33m)\u001b[0m\u001b[1;33m\u001b[0m\u001b[1;33m\u001b[0m\u001b[0m\n\u001b[1;32m--> 342\u001b[1;33m         \u001b[0mself\u001b[0m\u001b[1;33m.\u001b[0m\u001b[0mdraw\u001b[0m\u001b[1;33m(\u001b[0m\u001b[1;33m)\u001b[0m\u001b[1;33m\u001b[0m\u001b[1;33m\u001b[0m\u001b[0m\n\u001b[0m\u001b[0;32m    343\u001b[0m \u001b[1;33m\u001b[0m\u001b[0m\n\u001b[0;32m    344\u001b[0m         \u001b[1;31m# Always make sure to return self from fit\u001b[0m\u001b[1;33m\u001b[0m\u001b[1;33m\u001b[0m\u001b[1;33m\u001b[0m\u001b[0m\n",
      "\u001b[1;32m~\\anaconda3\\envs\\ML-Apyori\\lib\\site-packages\\yellowbrick\\regressor\\alphas.py\u001b[0m in \u001b[0;36mdraw\u001b[1;34m(self)\u001b[0m\n\u001b[0;32m    354\u001b[0m \u001b[1;33m\u001b[0m\u001b[0m\n\u001b[0;32m    355\u001b[0m         \u001b[1;31m# Draw a dashed vline at the alpha with maximal error\u001b[0m\u001b[1;33m\u001b[0m\u001b[1;33m\u001b[0m\u001b[1;33m\u001b[0m\u001b[0m\n\u001b[1;32m--> 356\u001b[1;33m         \u001b[0malpha\u001b[0m \u001b[1;33m=\u001b[0m \u001b[0mself\u001b[0m\u001b[1;33m.\u001b[0m\u001b[0malphas\u001b[0m\u001b[1;33m[\u001b[0m\u001b[0mnp\u001b[0m\u001b[1;33m.\u001b[0m\u001b[0mwhere\u001b[0m\u001b[1;33m(\u001b[0m\u001b[0mself\u001b[0m\u001b[1;33m.\u001b[0m\u001b[0merrors\u001b[0m \u001b[1;33m==\u001b[0m \u001b[0mself\u001b[0m\u001b[1;33m.\u001b[0m\u001b[0merrors\u001b[0m\u001b[1;33m.\u001b[0m\u001b[0mmax\u001b[0m\u001b[1;33m(\u001b[0m\u001b[1;33m)\u001b[0m\u001b[1;33m)\u001b[0m\u001b[1;33m]\u001b[0m\u001b[1;33m[\u001b[0m\u001b[1;36m0\u001b[0m\u001b[1;33m]\u001b[0m\u001b[1;33m\u001b[0m\u001b[1;33m\u001b[0m\u001b[0m\n\u001b[0m\u001b[0;32m    357\u001b[0m         \u001b[0mlabel\u001b[0m \u001b[1;33m=\u001b[0m \u001b[1;34m\"$\\\\alpha_{{max}}={:0.3f}$\"\u001b[0m\u001b[1;33m.\u001b[0m\u001b[0mformat\u001b[0m\u001b[1;33m(\u001b[0m\u001b[0malpha\u001b[0m\u001b[1;33m)\u001b[0m\u001b[1;33m\u001b[0m\u001b[1;33m\u001b[0m\u001b[0m\n\u001b[0;32m    358\u001b[0m         \u001b[0mself\u001b[0m\u001b[1;33m.\u001b[0m\u001b[0max\u001b[0m\u001b[1;33m.\u001b[0m\u001b[0maxvline\u001b[0m\u001b[1;33m(\u001b[0m\u001b[0malpha\u001b[0m\u001b[1;33m,\u001b[0m \u001b[0mcolor\u001b[0m\u001b[1;33m=\u001b[0m\u001b[1;34m\"k\"\u001b[0m\u001b[1;33m,\u001b[0m \u001b[0mlinestyle\u001b[0m\u001b[1;33m=\u001b[0m\u001b[1;34m\"dashed\"\u001b[0m\u001b[1;33m,\u001b[0m \u001b[0mlabel\u001b[0m\u001b[1;33m=\u001b[0m\u001b[0mlabel\u001b[0m\u001b[1;33m)\u001b[0m\u001b[1;33m\u001b[0m\u001b[1;33m\u001b[0m\u001b[0m\n",
      "\u001b[1;31mTypeError\u001b[0m: list indices must be integers or slices, not tuple"
     ]
    },
    {
     "data": {
      "image/png": "[encoded data removed]",
      "text/plain": [
       "<Figure size 432x288 with 1 Axes>"
      ]
     },
     "metadata": {
      "needs_background": "light"
     },
     "output_type": "display_data"
    }
   ],
   "source": [
    "alphas = [1.65, 1.66, 1.67, 1.68, 1.69, 1.70]\n",
    "\n",
    "visualizer = ManualAlphaSelection(\n",
    "    Ridge(),\n",
    "    alphas= alphas,\n",
    "    cv=5,\n",
    "    scoring='neg_root_mean_squared_error'\n",
    ")\n",
    "\n",
    "visualizer.fit(transf_X, y)\n",
    "visualizer.show()"
   ]
  },
  {
   "cell_type": "code",
   "execution_count": 50,
   "id": "d960a7f2-9ffb-4ee5-b7eb-15a60c5304ad",
   "metadata": {},
   "outputs": [],
   "source": [
    "#create scaler, model, and pipeline object\n",
    "minMax = MinMaxScaler()\n",
    "ridge_mdl = Ridge(alpha = 1.67)\n",
    "pipe_object = Pipeline(steps = [('scale', minMax), ('ridge_mdl', ridge_mdl)])"
   ]
  },
  {
   "cell_type": "code",
   "execution_count": 51,
   "id": "4b92bebc-29bb-4014-9608-d5b5e44e11d1",
   "metadata": {},
   "outputs": [
    {
     "data": {
      "text/plain": [
       "Pipeline(steps=[('scale', MinMaxScaler()), ('ridge_mdl', Ridge(alpha=1.67))])"
      ]
     },
     "execution_count": 51,
     "metadata": {},
     "output_type": "execute_result"
    }
   ],
   "source": [
    "#fit the model on X and y data\n",
    "pipe_object.fit(X, y)"
   ]
  },
  {
   "cell_type": "code",
   "execution_count": 52,
   "id": "56c4906c-7e6e-4b37-9085-51306757d0c3",
   "metadata": {},
   "outputs": [
    {
     "name": "stdout",
     "output_type": "stream",
     "text": [
      "[ 2.73112712e+00  4.24926698e+01 -4.89318481e+01  1.25222699e+01\n",
      " -8.65210616e+00 -3.80296399e+01  2.89108644e+01  3.67818163e+01\n",
      "  8.04247959e+00 -1.03764139e+01 -3.65714314e+01 -3.69184898e+00\n",
      "  9.55126529e+00  6.07657122e+00  1.02804333e+01  1.19719322e+01\n",
      "  4.37755749e+01  4.69564056e+01  1.17809414e+01 -3.99042358e+01\n",
      " -1.27239036e+01 -8.40870390e-01  5.59991950e+01 -3.66688007e+01\n",
      " -5.04202457e+00 -8.21890610e+00  4.39261581e+00  2.54786541e+01\n",
      " -1.79073953e+01 -5.63211601e+01  3.85739613e+01 -4.20151979e+01\n",
      "  2.89670291e+01 -2.44290758e+01  2.04093924e+01 -1.29604185e+01\n",
      " -1.87525115e+01 -1.92162583e+01  2.68884856e+00  1.93870662e+01\n",
      " -7.75385732e+00  2.56080030e+01  3.42423310e+01 -1.00415826e+00\n",
      " -6.58594852e+01  6.16293484e+00 -3.11633354e+01 -7.10833340e+01\n",
      " -1.87686847e+01  1.01054884e+02 -3.06733552e+01  1.81924856e+01\n",
      " -2.27781751e+01 -6.71952095e-01 -9.77112194e-01 -1.60698221e+01\n",
      "  3.31558245e+01 -2.23944648e+01  3.45099447e+01  1.20352770e+01\n",
      " -8.87107286e+00  5.52053780e+00  1.13439259e+02 -3.86063813e+01\n",
      " -5.76201967e+01  9.43090102e+00  1.36069618e+01 -2.74391337e+01\n",
      " -4.65910565e+01  2.22742470e+01  3.58075037e+01 -7.26795995e+00\n",
      " -3.45126702e+00  1.32367669e+01  1.94361142e+00  3.18817703e+01\n",
      " -4.18176052e+01  2.68765067e+01  7.87267144e+00 -8.85297235e+00\n",
      " -4.89254707e+01 -1.78550475e+01  0.00000000e+00  9.36309852e+00\n",
      " -8.41285403e+00 -1.59848997e+01  7.67564644e+00 -2.12770773e+01\n",
      "  5.62607061e-01  1.41618185e+01  0.00000000e+00  4.91105770e+00\n",
      "  1.55514975e+00 -1.56458268e+01 -1.04198292e+02 -1.79342530e+01\n",
      " -2.38383483e+01 -3.22089503e+01  0.00000000e+00  1.24147714e+01\n",
      "  2.83685696e+01 -5.98746676e-01 -8.27171162e+00 -1.94803493e-01\n",
      " -2.80304880e+00 -2.38439306e+00  2.63518385e+01 -1.51938625e+01\n",
      " -1.13498019e+01 -3.54673315e+01 -5.55749959e+00  1.84285769e+01\n",
      " -2.89548990e+01 -2.51115157e+01 -1.63574531e+01 -8.17502987e+00\n",
      "  0.00000000e+00  1.67242912e+01 -1.81388968e+01 -4.71460367e+00\n",
      " -2.26256841e-01  4.48506208e+00 -1.13017008e+00  7.71009692e+00\n",
      "  4.27990807e+00 -5.32473465e+00 -1.95950143e+00 -6.04070043e+01\n",
      " -7.84227462e+00  2.74027261e+01  1.85461384e+00 -9.29713193e+00\n",
      "  1.09743265e+00  1.44137560e+01  0.00000000e+00  5.27140052e+00\n",
      "  1.56585736e+02 -3.56054840e+00 -1.42881392e+01 -9.52227906e+00\n",
      " -1.75468439e+01  0.00000000e+00 -7.57824914e+00 -1.48672686e+01\n",
      " -8.03847794e+00  2.12352207e+00  1.01226951e+01  7.36093092e+00\n",
      "  6.18748586e+00 -1.07599906e-01  2.01475869e+01  1.80597949e+01\n",
      " -1.00083214e+01  2.20234683e+00 -5.44815487e+00 -6.06704384e+00\n",
      "  1.29611831e+01 -2.33102392e-01  1.89650734e+01 -1.79796568e+01\n",
      "  4.29793707e+01  3.11398205e+01  1.26089695e+01  8.32662795e+01\n",
      "  0.00000000e+00  0.00000000e+00  0.00000000e+00]\n",
      "-3.6227510109969643\n"
     ]
    }
   ],
   "source": [
    "print(ridge_mdl.coef_)\n",
    "print(ridge_mdl.intercept_)"
   ]
  },
  {
   "cell_type": "code",
   "execution_count": 53,
   "id": "9d74228d-8edb-46de-9b4c-caf5c33cd75d",
   "metadata": {},
   "outputs": [],
   "source": [
    "#create a dataframe of just the selected columns\n",
    "ridge_columns = X.iloc[:, ridge_mdl.coef_ != 0]"
   ]
  },
  {
   "cell_type": "code",
   "execution_count": 54,
   "id": "c6e16a8d-140b-4762-8af2-21c66c00f59c",
   "metadata": {},
   "outputs": [],
   "source": [
    "ridge_names = list(ridge_columns.columns)"
   ]
  },
  {
   "cell_type": "code",
   "execution_count": 55,
   "id": "7594d291-8771-4349-ad34-cb37c81c86a1",
   "metadata": {},
   "outputs": [],
   "source": [
    "#create a list of the coefficent values\n",
    "ridge_coef = list(ridge_mdl.coef_)\n",
    "ridge_coef = [x for x in ridge_coef if x != 0]"
   ]
  },
  {
   "cell_type": "code",
   "execution_count": 56,
   "id": "451400ee-27b2-4a81-9b14-c69d02901547",
   "metadata": {},
   "outputs": [],
   "source": [
    "#create a data frame to hold the selected columns, their coefficent values, and the absolute value of their coefficents\n",
    "#then display most important coeffecient at the top\n",
    "ridge_variables = pd.DataFrame()\n",
    "ridge_variables['Column_Names'] = ridge_names\n",
    "ridge_variables['Coef_Value'] = ridge_coef\n",
    "ridge_variables['Abslt_Coef_Value'] = abs(ridge_variables['Coef_Value'])\n",
    "ridge_variables = ridge_variables.sort_values(['Abslt_Coef_Value'], ascending = False)\n",
    "ridge_variables.reset_index(drop=True, inplace=True)"
   ]
  },
  {
   "cell_type": "code",
   "execution_count": 57,
   "id": "645d8f02-1325-434f-ae25-7fc78b7eea4b",
   "metadata": {},
   "outputs": [
    {
     "data": {
      "text/html": [
       "<div>\n",
       "<style scoped>\n",
       "    .dataframe tbody tr th:only-of-type {\n",
       "        vertical-align: middle;\n",
       "    }\n",
       "\n",
       "    .dataframe tbody tr th {\n",
       "        vertical-align: top;\n",
       "    }\n",
       "\n",
       "    .dataframe thead th {\n",
       "        text-align: right;\n",
       "    }\n",
       "</style>\n",
       "<table border=\"1\" class=\"dataframe\">\n",
       "  <thead>\n",
       "    <tr style=\"text-align: right;\">\n",
       "      <th></th>\n",
       "      <th>Column_Names</th>\n",
       "      <th>Coef_Value</th>\n",
       "      <th>Abslt_Coef_Value</th>\n",
       "    </tr>\n",
       "  </thead>\n",
       "  <tbody>\n",
       "    <tr>\n",
       "      <th>0</th>\n",
       "      <td>Ba</td>\n",
       "      <td>156.585736</td>\n",
       "      <td>156.585736</td>\n",
       "    </tr>\n",
       "    <tr>\n",
       "      <th>1</th>\n",
       "      <td>wtd_mean_ThermalConductivity</td>\n",
       "      <td>113.439259</td>\n",
       "      <td>113.439259</td>\n",
       "    </tr>\n",
       "    <tr>\n",
       "      <th>2</th>\n",
       "      <td>Si</td>\n",
       "      <td>-104.198292</td>\n",
       "      <td>104.198292</td>\n",
       "    </tr>\n",
       "    <tr>\n",
       "      <th>3</th>\n",
       "      <td>std_ElectronAffinity</td>\n",
       "      <td>101.054884</td>\n",
       "      <td>101.054884</td>\n",
       "    </tr>\n",
       "    <tr>\n",
       "      <th>4</th>\n",
       "      <td>Bi</td>\n",
       "      <td>83.266280</td>\n",
       "      <td>83.266280</td>\n",
       "    </tr>\n",
       "    <tr>\n",
       "      <th>...</th>\n",
       "      <td>...</td>\n",
       "      <td>...</td>\n",
       "      <td>...</td>\n",
       "    </tr>\n",
       "    <tr>\n",
       "      <th>153</th>\n",
       "      <td>O</td>\n",
       "      <td>0.562607</td>\n",
       "      <td>0.562607</td>\n",
       "    </tr>\n",
       "    <tr>\n",
       "      <th>154</th>\n",
       "      <td>Ir</td>\n",
       "      <td>-0.233102</td>\n",
       "      <td>0.233102</td>\n",
       "    </tr>\n",
       "    <tr>\n",
       "      <th>155</th>\n",
       "      <td>Zr</td>\n",
       "      <td>-0.226257</td>\n",
       "      <td>0.226257</td>\n",
       "    </tr>\n",
       "    <tr>\n",
       "      <th>156</th>\n",
       "      <td>V</td>\n",
       "      <td>-0.194803</td>\n",
       "      <td>0.194803</td>\n",
       "    </tr>\n",
       "    <tr>\n",
       "      <th>157</th>\n",
       "      <td>Tm</td>\n",
       "      <td>-0.107600</td>\n",
       "      <td>0.107600</td>\n",
       "    </tr>\n",
       "  </tbody>\n",
       "</table>\n",
       "<p>158 rows × 3 columns</p>\n",
       "</div>"
      ],
      "text/plain": [
       "                     Column_Names  Coef_Value  Abslt_Coef_Value\n",
       "0                              Ba  156.585736        156.585736\n",
       "1    wtd_mean_ThermalConductivity  113.439259        113.439259\n",
       "2                              Si -104.198292        104.198292\n",
       "3            std_ElectronAffinity  101.054884        101.054884\n",
       "4                              Bi   83.266280         83.266280\n",
       "..                            ...         ...               ...\n",
       "153                             O    0.562607          0.562607\n",
       "154                            Ir   -0.233102          0.233102\n",
       "155                            Zr   -0.226257          0.226257\n",
       "156                             V   -0.194803          0.194803\n",
       "157                            Tm   -0.107600          0.107600\n",
       "\n",
       "[158 rows x 3 columns]"
      ]
     },
     "execution_count": 57,
     "metadata": {},
     "output_type": "execute_result"
    }
   ],
   "source": [
    "ridge_variables"
   ]
  },
  {
   "cell_type": "code",
   "execution_count": 58,
   "id": "61528ad0-22ab-4bcb-a7aa-cac0dd1c3c2d",
   "metadata": {},
   "outputs": [],
   "source": [
    "ridge_scores = cross_val_score(ridge_mdl, transf_X, y, scoring = 'neg_root_mean_squared_error', cv=5)"
   ]
  },
  {
   "cell_type": "code",
   "execution_count": 59,
   "id": "35a05883-f35a-4c5a-b3c5-da2b1961e7ab",
   "metadata": {},
   "outputs": [],
   "source": [
    "avg_ridge_scores = (sum(ridge_scores)/len(ridge_scores))"
   ]
  },
  {
   "cell_type": "code",
   "execution_count": 60,
   "id": "019cae22-247c-4150-9df4-af70f0cd5f5d",
   "metadata": {},
   "outputs": [
    {
     "name": "stdout",
     "output_type": "stream",
     "text": [
      "The average RMSE for the Ridge model with 1.67 alpha is: 18.02763541490335\n"
     ]
    }
   ],
   "source": [
    "print('The average RMSE for the Ridge model with 1.67 alpha is: ' + str(abs(avg_ridge_scores))) "
   ]
  },
  {
   "cell_type": "markdown",
   "id": "c035b7cf-36e1-46ce-a7d9-f82e910172c1",
   "metadata": {},
   "source": [
    "### Elasticnet"
   ]
  },
  {
   "cell_type": "code",
   "execution_count": 61,
   "id": "df4f030a-9bb6-45c5-b55a-d891a334d758",
   "metadata": {},
   "outputs": [
    {
     "ename": "TypeError",
     "evalue": "list indices must be integers or slices, not tuple",
     "output_type": "error",
     "traceback": [
      "\u001b[1;31m---------------------------------------------------------------------------\u001b[0m",
      "\u001b[1;31mTypeError\u001b[0m                                 Traceback (most recent call last)",
      "\u001b[1;32m~\\AppData\\Local\\Temp/ipykernel_35900/3518090667.py\u001b[0m in \u001b[0;36m<module>\u001b[1;34m\u001b[0m\n\u001b[0;32m      8\u001b[0m )\n\u001b[0;32m      9\u001b[0m \u001b[1;33m\u001b[0m\u001b[0m\n\u001b[1;32m---> 10\u001b[1;33m \u001b[0mvisualizer\u001b[0m\u001b[1;33m.\u001b[0m\u001b[0mfit\u001b[0m\u001b[1;33m(\u001b[0m\u001b[0mtransf_X\u001b[0m\u001b[1;33m,\u001b[0m \u001b[0my\u001b[0m\u001b[1;33m)\u001b[0m\u001b[1;33m\u001b[0m\u001b[1;33m\u001b[0m\u001b[0m\n\u001b[0m\u001b[0;32m     11\u001b[0m \u001b[0mvisualizer\u001b[0m\u001b[1;33m.\u001b[0m\u001b[0mshow\u001b[0m\u001b[1;33m(\u001b[0m\u001b[1;33m)\u001b[0m\u001b[1;33m\u001b[0m\u001b[1;33m\u001b[0m\u001b[0m\n",
      "\u001b[1;32m~\\anaconda3\\envs\\ML-Apyori\\lib\\site-packages\\yellowbrick\\regressor\\alphas.py\u001b[0m in \u001b[0;36mfit\u001b[1;34m(self, X, y, **args)\u001b[0m\n\u001b[0;32m    340\u001b[0m         \u001b[1;31m# Convert errors to an ND array and draw\u001b[0m\u001b[1;33m\u001b[0m\u001b[1;33m\u001b[0m\u001b[1;33m\u001b[0m\u001b[0m\n\u001b[0;32m    341\u001b[0m         \u001b[0mself\u001b[0m\u001b[1;33m.\u001b[0m\u001b[0merrors\u001b[0m \u001b[1;33m=\u001b[0m \u001b[0mnp\u001b[0m\u001b[1;33m.\u001b[0m\u001b[0marray\u001b[0m\u001b[1;33m(\u001b[0m\u001b[0mself\u001b[0m\u001b[1;33m.\u001b[0m\u001b[0merrors\u001b[0m\u001b[1;33m)\u001b[0m\u001b[1;33m\u001b[0m\u001b[1;33m\u001b[0m\u001b[0m\n\u001b[1;32m--> 342\u001b[1;33m         \u001b[0mself\u001b[0m\u001b[1;33m.\u001b[0m\u001b[0mdraw\u001b[0m\u001b[1;33m(\u001b[0m\u001b[1;33m)\u001b[0m\u001b[1;33m\u001b[0m\u001b[1;33m\u001b[0m\u001b[0m\n\u001b[0m\u001b[0;32m    343\u001b[0m \u001b[1;33m\u001b[0m\u001b[0m\n\u001b[0;32m    344\u001b[0m         \u001b[1;31m# Always make sure to return self from fit\u001b[0m\u001b[1;33m\u001b[0m\u001b[1;33m\u001b[0m\u001b[1;33m\u001b[0m\u001b[0m\n",
      "\u001b[1;32m~\\anaconda3\\envs\\ML-Apyori\\lib\\site-packages\\yellowbrick\\regressor\\alphas.py\u001b[0m in \u001b[0;36mdraw\u001b[1;34m(self)\u001b[0m\n\u001b[0;32m    354\u001b[0m \u001b[1;33m\u001b[0m\u001b[0m\n\u001b[0;32m    355\u001b[0m         \u001b[1;31m# Draw a dashed vline at the alpha with maximal error\u001b[0m\u001b[1;33m\u001b[0m\u001b[1;33m\u001b[0m\u001b[1;33m\u001b[0m\u001b[0m\n\u001b[1;32m--> 356\u001b[1;33m         \u001b[0malpha\u001b[0m \u001b[1;33m=\u001b[0m \u001b[0mself\u001b[0m\u001b[1;33m.\u001b[0m\u001b[0malphas\u001b[0m\u001b[1;33m[\u001b[0m\u001b[0mnp\u001b[0m\u001b[1;33m.\u001b[0m\u001b[0mwhere\u001b[0m\u001b[1;33m(\u001b[0m\u001b[0mself\u001b[0m\u001b[1;33m.\u001b[0m\u001b[0merrors\u001b[0m \u001b[1;33m==\u001b[0m \u001b[0mself\u001b[0m\u001b[1;33m.\u001b[0m\u001b[0merrors\u001b[0m\u001b[1;33m.\u001b[0m\u001b[0mmax\u001b[0m\u001b[1;33m(\u001b[0m\u001b[1;33m)\u001b[0m\u001b[1;33m)\u001b[0m\u001b[1;33m]\u001b[0m\u001b[1;33m[\u001b[0m\u001b[1;36m0\u001b[0m\u001b[1;33m]\u001b[0m\u001b[1;33m\u001b[0m\u001b[1;33m\u001b[0m\u001b[0m\n\u001b[0m\u001b[0;32m    357\u001b[0m         \u001b[0mlabel\u001b[0m \u001b[1;33m=\u001b[0m \u001b[1;34m\"$\\\\alpha_{{max}}={:0.3f}$\"\u001b[0m\u001b[1;33m.\u001b[0m\u001b[0mformat\u001b[0m\u001b[1;33m(\u001b[0m\u001b[0malpha\u001b[0m\u001b[1;33m)\u001b[0m\u001b[1;33m\u001b[0m\u001b[1;33m\u001b[0m\u001b[0m\n\u001b[0;32m    358\u001b[0m         \u001b[0mself\u001b[0m\u001b[1;33m.\u001b[0m\u001b[0max\u001b[0m\u001b[1;33m.\u001b[0m\u001b[0maxvline\u001b[0m\u001b[1;33m(\u001b[0m\u001b[0malpha\u001b[0m\u001b[1;33m,\u001b[0m \u001b[0mcolor\u001b[0m\u001b[1;33m=\u001b[0m\u001b[1;34m\"k\"\u001b[0m\u001b[1;33m,\u001b[0m \u001b[0mlinestyle\u001b[0m\u001b[1;33m=\u001b[0m\u001b[1;34m\"dashed\"\u001b[0m\u001b[1;33m,\u001b[0m \u001b[0mlabel\u001b[0m\u001b[1;33m=\u001b[0m\u001b[0mlabel\u001b[0m\u001b[1;33m)\u001b[0m\u001b[1;33m\u001b[0m\u001b[1;33m\u001b[0m\u001b[0m\n",
      "\u001b[1;31mTypeError\u001b[0m: list indices must be integers or slices, not tuple"
     ]
    },
    {
     "data": {
      "image/png": "[encoded data removed]",
      "text/plain": [
       "<Figure size 432x288 with 1 Axes>"
      ]
     },
     "metadata": {
      "needs_background": "light"
     },
     "output_type": "display_data"
    }
   ],
   "source": [
    "alphas = [x / 10 for x in range(10)]\n",
    "\n",
    "visualizer = ManualAlphaSelection(\n",
    "    ElasticNet(),\n",
    "    alphas= alphas,\n",
    "    cv=5,\n",
    "    scoring='neg_root_mean_squared_error'\n",
    ")\n",
    "\n",
    "visualizer.fit(transf_X, y)\n",
    "visualizer.show()"
   ]
  },
  {
   "cell_type": "code",
   "execution_count": 62,
   "id": "a62fe33b-93db-46d9-9104-c4e26f531caf",
   "metadata": {},
   "outputs": [
    {
     "ename": "TypeError",
     "evalue": "list indices must be integers or slices, not tuple",
     "output_type": "error",
     "traceback": [
      "\u001b[1;31m---------------------------------------------------------------------------\u001b[0m",
      "\u001b[1;31mTypeError\u001b[0m                                 Traceback (most recent call last)",
      "\u001b[1;32m~\\AppData\\Local\\Temp/ipykernel_35900/498628100.py\u001b[0m in \u001b[0;36m<module>\u001b[1;34m\u001b[0m\n\u001b[0;32m      8\u001b[0m )\n\u001b[0;32m      9\u001b[0m \u001b[1;33m\u001b[0m\u001b[0m\n\u001b[1;32m---> 10\u001b[1;33m \u001b[0mvisualizer\u001b[0m\u001b[1;33m.\u001b[0m\u001b[0mfit\u001b[0m\u001b[1;33m(\u001b[0m\u001b[0mtransf_X\u001b[0m\u001b[1;33m,\u001b[0m \u001b[0my\u001b[0m\u001b[1;33m)\u001b[0m\u001b[1;33m\u001b[0m\u001b[1;33m\u001b[0m\u001b[0m\n\u001b[0m\u001b[0;32m     11\u001b[0m \u001b[0mvisualizer\u001b[0m\u001b[1;33m.\u001b[0m\u001b[0mshow\u001b[0m\u001b[1;33m(\u001b[0m\u001b[1;33m)\u001b[0m\u001b[1;33m\u001b[0m\u001b[1;33m\u001b[0m\u001b[0m\n",
      "\u001b[1;32m~\\anaconda3\\envs\\ML-Apyori\\lib\\site-packages\\yellowbrick\\regressor\\alphas.py\u001b[0m in \u001b[0;36mfit\u001b[1;34m(self, X, y, **args)\u001b[0m\n\u001b[0;32m    340\u001b[0m         \u001b[1;31m# Convert errors to an ND array and draw\u001b[0m\u001b[1;33m\u001b[0m\u001b[1;33m\u001b[0m\u001b[1;33m\u001b[0m\u001b[0m\n\u001b[0;32m    341\u001b[0m         \u001b[0mself\u001b[0m\u001b[1;33m.\u001b[0m\u001b[0merrors\u001b[0m \u001b[1;33m=\u001b[0m \u001b[0mnp\u001b[0m\u001b[1;33m.\u001b[0m\u001b[0marray\u001b[0m\u001b[1;33m(\u001b[0m\u001b[0mself\u001b[0m\u001b[1;33m.\u001b[0m\u001b[0merrors\u001b[0m\u001b[1;33m)\u001b[0m\u001b[1;33m\u001b[0m\u001b[1;33m\u001b[0m\u001b[0m\n\u001b[1;32m--> 342\u001b[1;33m         \u001b[0mself\u001b[0m\u001b[1;33m.\u001b[0m\u001b[0mdraw\u001b[0m\u001b[1;33m(\u001b[0m\u001b[1;33m)\u001b[0m\u001b[1;33m\u001b[0m\u001b[1;33m\u001b[0m\u001b[0m\n\u001b[0m\u001b[0;32m    343\u001b[0m \u001b[1;33m\u001b[0m\u001b[0m\n\u001b[0;32m    344\u001b[0m         \u001b[1;31m# Always make sure to return self from fit\u001b[0m\u001b[1;33m\u001b[0m\u001b[1;33m\u001b[0m\u001b[1;33m\u001b[0m\u001b[0m\n",
      "\u001b[1;32m~\\anaconda3\\envs\\ML-Apyori\\lib\\site-packages\\yellowbrick\\regressor\\alphas.py\u001b[0m in \u001b[0;36mdraw\u001b[1;34m(self)\u001b[0m\n\u001b[0;32m    354\u001b[0m \u001b[1;33m\u001b[0m\u001b[0m\n\u001b[0;32m    355\u001b[0m         \u001b[1;31m# Draw a dashed vline at the alpha with maximal error\u001b[0m\u001b[1;33m\u001b[0m\u001b[1;33m\u001b[0m\u001b[1;33m\u001b[0m\u001b[0m\n\u001b[1;32m--> 356\u001b[1;33m         \u001b[0malpha\u001b[0m \u001b[1;33m=\u001b[0m \u001b[0mself\u001b[0m\u001b[1;33m.\u001b[0m\u001b[0malphas\u001b[0m\u001b[1;33m[\u001b[0m\u001b[0mnp\u001b[0m\u001b[1;33m.\u001b[0m\u001b[0mwhere\u001b[0m\u001b[1;33m(\u001b[0m\u001b[0mself\u001b[0m\u001b[1;33m.\u001b[0m\u001b[0merrors\u001b[0m \u001b[1;33m==\u001b[0m \u001b[0mself\u001b[0m\u001b[1;33m.\u001b[0m\u001b[0merrors\u001b[0m\u001b[1;33m.\u001b[0m\u001b[0mmax\u001b[0m\u001b[1;33m(\u001b[0m\u001b[1;33m)\u001b[0m\u001b[1;33m)\u001b[0m\u001b[1;33m]\u001b[0m\u001b[1;33m[\u001b[0m\u001b[1;36m0\u001b[0m\u001b[1;33m]\u001b[0m\u001b[1;33m\u001b[0m\u001b[1;33m\u001b[0m\u001b[0m\n\u001b[0m\u001b[0;32m    357\u001b[0m         \u001b[0mlabel\u001b[0m \u001b[1;33m=\u001b[0m \u001b[1;34m\"$\\\\alpha_{{max}}={:0.3f}$\"\u001b[0m\u001b[1;33m.\u001b[0m\u001b[0mformat\u001b[0m\u001b[1;33m(\u001b[0m\u001b[0malpha\u001b[0m\u001b[1;33m)\u001b[0m\u001b[1;33m\u001b[0m\u001b[1;33m\u001b[0m\u001b[0m\n\u001b[0;32m    358\u001b[0m         \u001b[0mself\u001b[0m\u001b[1;33m.\u001b[0m\u001b[0max\u001b[0m\u001b[1;33m.\u001b[0m\u001b[0maxvline\u001b[0m\u001b[1;33m(\u001b[0m\u001b[0malpha\u001b[0m\u001b[1;33m,\u001b[0m \u001b[0mcolor\u001b[0m\u001b[1;33m=\u001b[0m\u001b[1;34m\"k\"\u001b[0m\u001b[1;33m,\u001b[0m \u001b[0mlinestyle\u001b[0m\u001b[1;33m=\u001b[0m\u001b[1;34m\"dashed\"\u001b[0m\u001b[1;33m,\u001b[0m \u001b[0mlabel\u001b[0m\u001b[1;33m=\u001b[0m\u001b[0mlabel\u001b[0m\u001b[1;33m)\u001b[0m\u001b[1;33m\u001b[0m\u001b[1;33m\u001b[0m\u001b[0m\n",
      "\u001b[1;31mTypeError\u001b[0m: list indices must be integers or slices, not tuple"
     ]
    },
    {
     "data": {
      "image/png": "[encoded data removed]",
      "text/plain": [
       "<Figure size 432x288 with 1 Axes>"
      ]
     },
     "metadata": {
      "needs_background": "light"
     },
     "output_type": "display_data"
    }
   ],
   "source": [
    "alphas = [0.0, 0.05, 0.1, 0.15, 0.2]\n",
    "\n",
    "visualizer = ManualAlphaSelection(\n",
    "    ElasticNet(),\n",
    "    alphas= alphas,\n",
    "    cv=5,\n",
    "    scoring='neg_root_mean_squared_error'\n",
    ")\n",
    "\n",
    "visualizer.fit(transf_X, y)\n",
    "visualizer.show()"
   ]
  },
  {
   "cell_type": "code",
   "execution_count": 63,
   "id": "0f1b1c58-ab5f-42ea-b510-72cadc294524",
   "metadata": {},
   "outputs": [
    {
     "ename": "TypeError",
     "evalue": "list indices must be integers or slices, not tuple",
     "output_type": "error",
     "traceback": [
      "\u001b[1;31m---------------------------------------------------------------------------\u001b[0m",
      "\u001b[1;31mTypeError\u001b[0m                                 Traceback (most recent call last)",
      "\u001b[1;32m~\\AppData\\Local\\Temp/ipykernel_35900/2314073937.py\u001b[0m in \u001b[0;36m<module>\u001b[1;34m\u001b[0m\n\u001b[0;32m      8\u001b[0m )\n\u001b[0;32m      9\u001b[0m \u001b[1;33m\u001b[0m\u001b[0m\n\u001b[1;32m---> 10\u001b[1;33m \u001b[0mvisualizer\u001b[0m\u001b[1;33m.\u001b[0m\u001b[0mfit\u001b[0m\u001b[1;33m(\u001b[0m\u001b[0mtransf_X\u001b[0m\u001b[1;33m,\u001b[0m \u001b[0my\u001b[0m\u001b[1;33m)\u001b[0m\u001b[1;33m\u001b[0m\u001b[1;33m\u001b[0m\u001b[0m\n\u001b[0m\u001b[0;32m     11\u001b[0m \u001b[0mvisualizer\u001b[0m\u001b[1;33m.\u001b[0m\u001b[0mshow\u001b[0m\u001b[1;33m(\u001b[0m\u001b[1;33m)\u001b[0m\u001b[1;33m\u001b[0m\u001b[1;33m\u001b[0m\u001b[0m\n",
      "\u001b[1;32m~\\anaconda3\\envs\\ML-Apyori\\lib\\site-packages\\yellowbrick\\regressor\\alphas.py\u001b[0m in \u001b[0;36mfit\u001b[1;34m(self, X, y, **args)\u001b[0m\n\u001b[0;32m    340\u001b[0m         \u001b[1;31m# Convert errors to an ND array and draw\u001b[0m\u001b[1;33m\u001b[0m\u001b[1;33m\u001b[0m\u001b[1;33m\u001b[0m\u001b[0m\n\u001b[0;32m    341\u001b[0m         \u001b[0mself\u001b[0m\u001b[1;33m.\u001b[0m\u001b[0merrors\u001b[0m \u001b[1;33m=\u001b[0m \u001b[0mnp\u001b[0m\u001b[1;33m.\u001b[0m\u001b[0marray\u001b[0m\u001b[1;33m(\u001b[0m\u001b[0mself\u001b[0m\u001b[1;33m.\u001b[0m\u001b[0merrors\u001b[0m\u001b[1;33m)\u001b[0m\u001b[1;33m\u001b[0m\u001b[1;33m\u001b[0m\u001b[0m\n\u001b[1;32m--> 342\u001b[1;33m         \u001b[0mself\u001b[0m\u001b[1;33m.\u001b[0m\u001b[0mdraw\u001b[0m\u001b[1;33m(\u001b[0m\u001b[1;33m)\u001b[0m\u001b[1;33m\u001b[0m\u001b[1;33m\u001b[0m\u001b[0m\n\u001b[0m\u001b[0;32m    343\u001b[0m \u001b[1;33m\u001b[0m\u001b[0m\n\u001b[0;32m    344\u001b[0m         \u001b[1;31m# Always make sure to return self from fit\u001b[0m\u001b[1;33m\u001b[0m\u001b[1;33m\u001b[0m\u001b[1;33m\u001b[0m\u001b[0m\n",
      "\u001b[1;32m~\\anaconda3\\envs\\ML-Apyori\\lib\\site-packages\\yellowbrick\\regressor\\alphas.py\u001b[0m in \u001b[0;36mdraw\u001b[1;34m(self)\u001b[0m\n\u001b[0;32m    354\u001b[0m \u001b[1;33m\u001b[0m\u001b[0m\n\u001b[0;32m    355\u001b[0m         \u001b[1;31m# Draw a dashed vline at the alpha with maximal error\u001b[0m\u001b[1;33m\u001b[0m\u001b[1;33m\u001b[0m\u001b[1;33m\u001b[0m\u001b[0m\n\u001b[1;32m--> 356\u001b[1;33m         \u001b[0malpha\u001b[0m \u001b[1;33m=\u001b[0m \u001b[0mself\u001b[0m\u001b[1;33m.\u001b[0m\u001b[0malphas\u001b[0m\u001b[1;33m[\u001b[0m\u001b[0mnp\u001b[0m\u001b[1;33m.\u001b[0m\u001b[0mwhere\u001b[0m\u001b[1;33m(\u001b[0m\u001b[0mself\u001b[0m\u001b[1;33m.\u001b[0m\u001b[0merrors\u001b[0m \u001b[1;33m==\u001b[0m \u001b[0mself\u001b[0m\u001b[1;33m.\u001b[0m\u001b[0merrors\u001b[0m\u001b[1;33m.\u001b[0m\u001b[0mmax\u001b[0m\u001b[1;33m(\u001b[0m\u001b[1;33m)\u001b[0m\u001b[1;33m)\u001b[0m\u001b[1;33m]\u001b[0m\u001b[1;33m[\u001b[0m\u001b[1;36m0\u001b[0m\u001b[1;33m]\u001b[0m\u001b[1;33m\u001b[0m\u001b[1;33m\u001b[0m\u001b[0m\n\u001b[0m\u001b[0;32m    357\u001b[0m         \u001b[0mlabel\u001b[0m \u001b[1;33m=\u001b[0m \u001b[1;34m\"$\\\\alpha_{{max}}={:0.3f}$\"\u001b[0m\u001b[1;33m.\u001b[0m\u001b[0mformat\u001b[0m\u001b[1;33m(\u001b[0m\u001b[0malpha\u001b[0m\u001b[1;33m)\u001b[0m\u001b[1;33m\u001b[0m\u001b[1;33m\u001b[0m\u001b[0m\n\u001b[0;32m    358\u001b[0m         \u001b[0mself\u001b[0m\u001b[1;33m.\u001b[0m\u001b[0max\u001b[0m\u001b[1;33m.\u001b[0m\u001b[0maxvline\u001b[0m\u001b[1;33m(\u001b[0m\u001b[0malpha\u001b[0m\u001b[1;33m,\u001b[0m \u001b[0mcolor\u001b[0m\u001b[1;33m=\u001b[0m\u001b[1;34m\"k\"\u001b[0m\u001b[1;33m,\u001b[0m \u001b[0mlinestyle\u001b[0m\u001b[1;33m=\u001b[0m\u001b[1;34m\"dashed\"\u001b[0m\u001b[1;33m,\u001b[0m \u001b[0mlabel\u001b[0m\u001b[1;33m=\u001b[0m\u001b[0mlabel\u001b[0m\u001b[1;33m)\u001b[0m\u001b[1;33m\u001b[0m\u001b[1;33m\u001b[0m\u001b[0m\n",
      "\u001b[1;31mTypeError\u001b[0m: list indices must be integers or slices, not tuple"
     ]
    },
    {
     "data": {
      "image/png": "[encoded data removed]",
      "text/plain": [
       "<Figure size 432x288 with 1 Axes>"
      ]
     },
     "metadata": {
      "needs_background": "light"
     },
     "output_type": "display_data"
    }
   ],
   "source": [
    "alphas = [0, 0.005, 0.01, 0.015, 0.02, 0.025, 0.03, 0.035, 0.04, 0.045, 0.050, 0.055, 0.06]\n",
    "\n",
    "visualizer = ManualAlphaSelection(\n",
    "    ElasticNet(),\n",
    "    alphas= alphas,\n",
    "    cv=5,\n",
    "    scoring='neg_root_mean_squared_error'\n",
    ")\n",
    "\n",
    "visualizer.fit(transf_X, y)\n",
    "visualizer.show()"
   ]
  },
  {
   "cell_type": "code",
   "execution_count": 64,
   "id": "04e02bee-c96f-4687-a0d9-3f8e8f4b73f2",
   "metadata": {},
   "outputs": [
    {
     "ename": "TypeError",
     "evalue": "list indices must be integers or slices, not tuple",
     "output_type": "error",
     "traceback": [
      "\u001b[1;31m---------------------------------------------------------------------------\u001b[0m",
      "\u001b[1;31mTypeError\u001b[0m                                 Traceback (most recent call last)",
      "\u001b[1;32m~\\AppData\\Local\\Temp/ipykernel_35900/501481940.py\u001b[0m in \u001b[0;36m<module>\u001b[1;34m\u001b[0m\n\u001b[0;32m      8\u001b[0m )\n\u001b[0;32m      9\u001b[0m \u001b[1;33m\u001b[0m\u001b[0m\n\u001b[1;32m---> 10\u001b[1;33m \u001b[0mvisualizer\u001b[0m\u001b[1;33m.\u001b[0m\u001b[0mfit\u001b[0m\u001b[1;33m(\u001b[0m\u001b[0mtransf_X\u001b[0m\u001b[1;33m,\u001b[0m \u001b[0my\u001b[0m\u001b[1;33m)\u001b[0m\u001b[1;33m\u001b[0m\u001b[1;33m\u001b[0m\u001b[0m\n\u001b[0m\u001b[0;32m     11\u001b[0m \u001b[0mvisualizer\u001b[0m\u001b[1;33m.\u001b[0m\u001b[0mshow\u001b[0m\u001b[1;33m(\u001b[0m\u001b[1;33m)\u001b[0m\u001b[1;33m\u001b[0m\u001b[1;33m\u001b[0m\u001b[0m\n",
      "\u001b[1;32m~\\anaconda3\\envs\\ML-Apyori\\lib\\site-packages\\yellowbrick\\regressor\\alphas.py\u001b[0m in \u001b[0;36mfit\u001b[1;34m(self, X, y, **args)\u001b[0m\n\u001b[0;32m    340\u001b[0m         \u001b[1;31m# Convert errors to an ND array and draw\u001b[0m\u001b[1;33m\u001b[0m\u001b[1;33m\u001b[0m\u001b[1;33m\u001b[0m\u001b[0m\n\u001b[0;32m    341\u001b[0m         \u001b[0mself\u001b[0m\u001b[1;33m.\u001b[0m\u001b[0merrors\u001b[0m \u001b[1;33m=\u001b[0m \u001b[0mnp\u001b[0m\u001b[1;33m.\u001b[0m\u001b[0marray\u001b[0m\u001b[1;33m(\u001b[0m\u001b[0mself\u001b[0m\u001b[1;33m.\u001b[0m\u001b[0merrors\u001b[0m\u001b[1;33m)\u001b[0m\u001b[1;33m\u001b[0m\u001b[1;33m\u001b[0m\u001b[0m\n\u001b[1;32m--> 342\u001b[1;33m         \u001b[0mself\u001b[0m\u001b[1;33m.\u001b[0m\u001b[0mdraw\u001b[0m\u001b[1;33m(\u001b[0m\u001b[1;33m)\u001b[0m\u001b[1;33m\u001b[0m\u001b[1;33m\u001b[0m\u001b[0m\n\u001b[0m\u001b[0;32m    343\u001b[0m \u001b[1;33m\u001b[0m\u001b[0m\n\u001b[0;32m    344\u001b[0m         \u001b[1;31m# Always make sure to return self from fit\u001b[0m\u001b[1;33m\u001b[0m\u001b[1;33m\u001b[0m\u001b[1;33m\u001b[0m\u001b[0m\n",
      "\u001b[1;32m~\\anaconda3\\envs\\ML-Apyori\\lib\\site-packages\\yellowbrick\\regressor\\alphas.py\u001b[0m in \u001b[0;36mdraw\u001b[1;34m(self)\u001b[0m\n\u001b[0;32m    354\u001b[0m \u001b[1;33m\u001b[0m\u001b[0m\n\u001b[0;32m    355\u001b[0m         \u001b[1;31m# Draw a dashed vline at the alpha with maximal error\u001b[0m\u001b[1;33m\u001b[0m\u001b[1;33m\u001b[0m\u001b[1;33m\u001b[0m\u001b[0m\n\u001b[1;32m--> 356\u001b[1;33m         \u001b[0malpha\u001b[0m \u001b[1;33m=\u001b[0m \u001b[0mself\u001b[0m\u001b[1;33m.\u001b[0m\u001b[0malphas\u001b[0m\u001b[1;33m[\u001b[0m\u001b[0mnp\u001b[0m\u001b[1;33m.\u001b[0m\u001b[0mwhere\u001b[0m\u001b[1;33m(\u001b[0m\u001b[0mself\u001b[0m\u001b[1;33m.\u001b[0m\u001b[0merrors\u001b[0m \u001b[1;33m==\u001b[0m \u001b[0mself\u001b[0m\u001b[1;33m.\u001b[0m\u001b[0merrors\u001b[0m\u001b[1;33m.\u001b[0m\u001b[0mmax\u001b[0m\u001b[1;33m(\u001b[0m\u001b[1;33m)\u001b[0m\u001b[1;33m)\u001b[0m\u001b[1;33m]\u001b[0m\u001b[1;33m[\u001b[0m\u001b[1;36m0\u001b[0m\u001b[1;33m]\u001b[0m\u001b[1;33m\u001b[0m\u001b[1;33m\u001b[0m\u001b[0m\n\u001b[0m\u001b[0;32m    357\u001b[0m         \u001b[0mlabel\u001b[0m \u001b[1;33m=\u001b[0m \u001b[1;34m\"$\\\\alpha_{{max}}={:0.3f}$\"\u001b[0m\u001b[1;33m.\u001b[0m\u001b[0mformat\u001b[0m\u001b[1;33m(\u001b[0m\u001b[0malpha\u001b[0m\u001b[1;33m)\u001b[0m\u001b[1;33m\u001b[0m\u001b[1;33m\u001b[0m\u001b[0m\n\u001b[0;32m    358\u001b[0m         \u001b[0mself\u001b[0m\u001b[1;33m.\u001b[0m\u001b[0max\u001b[0m\u001b[1;33m.\u001b[0m\u001b[0maxvline\u001b[0m\u001b[1;33m(\u001b[0m\u001b[0malpha\u001b[0m\u001b[1;33m,\u001b[0m \u001b[0mcolor\u001b[0m\u001b[1;33m=\u001b[0m\u001b[1;34m\"k\"\u001b[0m\u001b[1;33m,\u001b[0m \u001b[0mlinestyle\u001b[0m\u001b[1;33m=\u001b[0m\u001b[1;34m\"dashed\"\u001b[0m\u001b[1;33m,\u001b[0m \u001b[0mlabel\u001b[0m\u001b[1;33m=\u001b[0m\u001b[0mlabel\u001b[0m\u001b[1;33m)\u001b[0m\u001b[1;33m\u001b[0m\u001b[1;33m\u001b[0m\u001b[0m\n",
      "\u001b[1;31mTypeError\u001b[0m: list indices must be integers or slices, not tuple"
     ]
    },
    {
     "data": {
      "image/png": "[encoded data removed]",
      "text/plain": [
       "<Figure size 432x288 with 1 Axes>"
      ]
     },
     "metadata": {
      "needs_background": "light"
     },
     "output_type": "display_data"
    }
   ],
   "source": [
    "alphas = [0, 0.001, 0.002, 0.003, 0.004, 0.005, 0.006, 0.007, 0.008, 0.009, 0.010]\n",
    "\n",
    "visualizer = ManualAlphaSelection(\n",
    "    ElasticNet(),\n",
    "    alphas= alphas,\n",
    "    cv=5,\n",
    "    scoring='neg_root_mean_squared_error'\n",
    ")\n",
    "\n",
    "visualizer.fit(transf_X, y)\n",
    "visualizer.show()"
   ]
  },
  {
   "cell_type": "code",
   "execution_count": 66,
   "id": "6ddb4cdd-0a15-4ee8-9a28-314b1fc8553c",
   "metadata": {},
   "outputs": [],
   "source": [
    "minMax = MinMaxScaler()\n",
    "elastic_mdl = ElasticNet(alpha = 0.001)\n",
    "pipe_object = Pipeline(steps = [('scale', minMax), ('elastic_mdl', elastic_mdl)])"
   ]
  },
  {
   "cell_type": "code",
   "execution_count": 67,
   "id": "0b43cc5a-703c-4986-b3ba-22c9b95880e3",
   "metadata": {},
   "outputs": [
    {
     "data": {
      "text/plain": [
       "Pipeline(steps=[('scale', MinMaxScaler()),\n",
       "                ('elastic_mdl', ElasticNet(alpha=0.001))])"
      ]
     },
     "execution_count": 67,
     "metadata": {},
     "output_type": "execute_result"
    }
   ],
   "source": [
    "#fit the model on X and y data\n",
    "pipe_object.fit(X, y)"
   ]
  },
  {
   "cell_type": "code",
   "execution_count": 68,
   "id": "0f073d3b-082f-4235-a2be-9944d68cb66a",
   "metadata": {},
   "outputs": [
    {
     "name": "stdout",
     "output_type": "stream",
     "text": [
      "[ 4.25110818e+00  1.59693687e+01 -1.41054068e+01  8.13397282e+00\n",
      " -2.76044050e+00 -1.73296938e+01  2.59816242e+01  3.27772827e+01\n",
      " -6.86227253e+00  2.73497689e+00 -3.31850942e+01  1.14479757e+01\n",
      "  5.02417664e-01  1.34543227e+01  1.34089852e+00  3.07861661e-01\n",
      "  1.14123438e+01  2.76947179e+01  3.01841913e+00 -1.75282191e+01\n",
      " -1.48461575e+01 -6.04591690e+00  2.78401463e+01 -1.48242297e+01\n",
      "  9.53087835e+00 -6.56541719e-01  1.21407800e+01  2.65735920e+01\n",
      " -1.29782703e+01 -2.82564386e+01  2.27937915e+01 -1.59475110e+01\n",
      "  4.23718966e+00 -1.84789698e+01  5.48956110e+00 -9.53112346e+00\n",
      " -2.08003513e+01 -8.05425576e+00  1.59434286e+01  3.78536686e+00\n",
      " -1.14409982e+01  1.76924092e+01  4.27153054e+00  9.95362192e-01\n",
      " -3.34905409e+01 -8.73213716e+00 -3.03979633e+01 -2.60679061e+01\n",
      " -1.78746012e+01  3.31606933e+01 -2.80072560e+00  4.59036877e+00\n",
      " -0.00000000e+00 -5.24954690e+00 -9.81234865e-02 -5.82116609e+00\n",
      "  2.41202214e+01 -1.09070297e+01  1.55954542e+01  4.82767624e+00\n",
      " -1.23107071e+01  8.06536054e+00  4.91210273e+01 -2.44226667e+01\n",
      " -2.92590873e+01  9.00355153e+00  1.62449701e+01 -7.85298890e+00\n",
      " -1.28331803e+01 -1.00351412e+00  4.56186159e+01  0.00000000e+00\n",
      " -2.44723087e+00  4.52857562e+00 -2.75255903e-02  3.99218830e+00\n",
      " -3.91016909e+00  1.23895378e+01  1.66565108e+01 -2.16411360e+00\n",
      " -4.24917864e+01 -4.46697265e+00  0.00000000e+00  1.15200915e+01\n",
      " -7.04437791e+00 -5.20306209e+00  8.30323760e+00 -9.55351606e+00\n",
      "  2.12150742e+01  2.79289935e+00  0.00000000e+00  4.90362633e-01\n",
      "  2.02451049e+00 -5.96858111e+00 -4.05343654e+01 -5.36123033e+00\n",
      " -1.47526800e+01 -2.79955990e+01  0.00000000e+00  5.97090335e+00\n",
      "  2.83917139e+01 -2.46052517e+00 -8.38491315e+00  3.26968326e-01\n",
      "  0.00000000e+00  0.00000000e+00  4.53964264e+00 -6.70178792e+00\n",
      " -5.77967174e+00 -4.68748754e+00 -3.02036015e+00  1.24008606e+01\n",
      " -1.02085011e+01 -1.42315260e+01 -6.99191381e+00 -2.86930394e+00\n",
      "  0.00000000e+00  6.82532827e+00 -2.29000822e+01  3.39445976e-01\n",
      " -2.36048656e+00  1.24901469e+00 -4.23742034e+00  2.44648709e+00\n",
      "  0.00000000e+00 -2.20251687e+00 -3.84889337e+00 -3.11909730e+01\n",
      " -8.60728547e-01  8.45824518e+00  8.47517655e-01 -2.40324766e+00\n",
      " -0.00000000e+00  6.05765432e+00  0.00000000e+00 -3.15125228e-01\n",
      "  8.94599398e+01 -4.50646387e+00 -1.40281319e+01 -2.60224466e+00\n",
      " -1.66589586e+01  0.00000000e+00 -5.29233366e+00 -1.49341374e+01\n",
      " -1.02813996e+01 -0.00000000e+00  1.58191681e+00  6.39864695e-01\n",
      "  2.18902211e+00 -1.18164198e+00  2.19028435e+00  6.60683257e+00\n",
      " -3.52771435e+00 -0.00000000e+00 -2.91577229e+00 -8.09798575e-01\n",
      "  7.76434366e+00 -0.00000000e+00  8.98650102e+00 -4.87687041e+00\n",
      "  2.96739165e+01  2.19605070e+01 -5.25676567e-02  5.79731657e+01\n",
      "  0.00000000e+00  0.00000000e+00  0.00000000e+00]\n",
      "-6.646947602606943\n"
     ]
    }
   ],
   "source": [
    "print(elastic_mdl.coef_)\n",
    "print(elastic_mdl.intercept_)"
   ]
  },
  {
   "cell_type": "code",
   "execution_count": 69,
   "id": "aef9644e-9ca6-48b9-a99a-be1fe15ba7d5",
   "metadata": {},
   "outputs": [],
   "source": [
    "elastic_columns = X.iloc[:, elastic_mdl.coef_ != 0]"
   ]
  },
  {
   "cell_type": "code",
   "execution_count": 70,
   "id": "c3ffde71-8d7a-46c2-a111-22773d624a0b",
   "metadata": {},
   "outputs": [],
   "source": [
    "elastic_names = list(elastic_columns.columns)"
   ]
  },
  {
   "cell_type": "code",
   "execution_count": 71,
   "id": "99ddf60e-e2b3-4f47-a792-522991f71a65",
   "metadata": {},
   "outputs": [],
   "source": [
    "elastic_coef = list(elastic_mdl.coef_)\n",
    "elastic_coef = [x for x in elastic_coef if x != 0]"
   ]
  },
  {
   "cell_type": "code",
   "execution_count": 72,
   "id": "5464bfc2-3468-44f0-8565-3ced4dd7fb53",
   "metadata": {},
   "outputs": [],
   "source": [
    "elastic_variables = pd.DataFrame()\n",
    "elastic_variables['Column_Names'] = elastic_names\n",
    "elastic_variables['Coef_Value'] = elastic_coef\n",
    "elastic_variables['Abslt_Coef_Value'] = abs(elastic_variables['Coef_Value'])\n",
    "elastic_variables = elastic_variables.sort_values(['Abslt_Coef_Value'], ascending = False)\n",
    "elastic_variables.reset_index(drop=True, inplace=True)"
   ]
  },
  {
   "cell_type": "code",
   "execution_count": 73,
   "id": "c0ca76d4-a9a3-4e16-aef5-2a14b7fc77ce",
   "metadata": {},
   "outputs": [
    {
     "data": {
      "text/html": [
       "<div>\n",
       "<style scoped>\n",
       "    .dataframe tbody tr th:only-of-type {\n",
       "        vertical-align: middle;\n",
       "    }\n",
       "\n",
       "    .dataframe tbody tr th {\n",
       "        vertical-align: top;\n",
       "    }\n",
       "\n",
       "    .dataframe thead th {\n",
       "        text-align: right;\n",
       "    }\n",
       "</style>\n",
       "<table border=\"1\" class=\"dataframe\">\n",
       "  <thead>\n",
       "    <tr style=\"text-align: right;\">\n",
       "      <th></th>\n",
       "      <th>Column_Names</th>\n",
       "      <th>Coef_Value</th>\n",
       "      <th>Abslt_Coef_Value</th>\n",
       "    </tr>\n",
       "  </thead>\n",
       "  <tbody>\n",
       "    <tr>\n",
       "      <th>0</th>\n",
       "      <td>Ba</td>\n",
       "      <td>89.459940</td>\n",
       "      <td>89.459940</td>\n",
       "    </tr>\n",
       "    <tr>\n",
       "      <th>1</th>\n",
       "      <td>Bi</td>\n",
       "      <td>57.973166</td>\n",
       "      <td>57.973166</td>\n",
       "    </tr>\n",
       "    <tr>\n",
       "      <th>2</th>\n",
       "      <td>wtd_mean_ThermalConductivity</td>\n",
       "      <td>49.121027</td>\n",
       "      <td>49.121027</td>\n",
       "    </tr>\n",
       "    <tr>\n",
       "      <th>3</th>\n",
       "      <td>wtd_std_ThermalConductivity</td>\n",
       "      <td>45.618616</td>\n",
       "      <td>45.618616</td>\n",
       "    </tr>\n",
       "    <tr>\n",
       "      <th>4</th>\n",
       "      <td>wtd_std_Valence</td>\n",
       "      <td>-42.491786</td>\n",
       "      <td>42.491786</td>\n",
       "    </tr>\n",
       "    <tr>\n",
       "      <th>...</th>\n",
       "      <td>...</td>\n",
       "      <td>...</td>\n",
       "      <td>...</td>\n",
       "    </tr>\n",
       "    <tr>\n",
       "      <th>144</th>\n",
       "      <td>Cs</td>\n",
       "      <td>-0.315125</td>\n",
       "      <td>0.315125</td>\n",
       "    </tr>\n",
       "    <tr>\n",
       "      <th>145</th>\n",
       "      <td>entropy_fie</td>\n",
       "      <td>0.307862</td>\n",
       "      <td>0.307862</td>\n",
       "    </tr>\n",
       "    <tr>\n",
       "      <th>146</th>\n",
       "      <td>wtd_gmean_FusionHeat</td>\n",
       "      <td>-0.098123</td>\n",
       "      <td>0.098123</td>\n",
       "    </tr>\n",
       "    <tr>\n",
       "      <th>147</th>\n",
       "      <td>Pb</td>\n",
       "      <td>-0.052568</td>\n",
       "      <td>0.052568</td>\n",
       "    </tr>\n",
       "    <tr>\n",
       "      <th>148</th>\n",
       "      <td>wtd_gmean_Valence</td>\n",
       "      <td>-0.027526</td>\n",
       "      <td>0.027526</td>\n",
       "    </tr>\n",
       "  </tbody>\n",
       "</table>\n",
       "<p>149 rows × 3 columns</p>\n",
       "</div>"
      ],
      "text/plain": [
       "                     Column_Names  Coef_Value  Abslt_Coef_Value\n",
       "0                              Ba   89.459940         89.459940\n",
       "1                              Bi   57.973166         57.973166\n",
       "2    wtd_mean_ThermalConductivity   49.121027         49.121027\n",
       "3     wtd_std_ThermalConductivity   45.618616         45.618616\n",
       "4                 wtd_std_Valence  -42.491786         42.491786\n",
       "..                            ...         ...               ...\n",
       "144                            Cs   -0.315125          0.315125\n",
       "145                   entropy_fie    0.307862          0.307862\n",
       "146          wtd_gmean_FusionHeat   -0.098123          0.098123\n",
       "147                            Pb   -0.052568          0.052568\n",
       "148             wtd_gmean_Valence   -0.027526          0.027526\n",
       "\n",
       "[149 rows x 3 columns]"
      ]
     },
     "execution_count": 73,
     "metadata": {},
     "output_type": "execute_result"
    }
   ],
   "source": [
    "elastic_variables"
   ]
  },
  {
   "cell_type": "code",
   "execution_count": 74,
   "id": "6aaa7358-600f-4e45-9069-c19652310cbe",
   "metadata": {},
   "outputs": [],
   "source": [
    "elastic_scores = cross_val_score(elastic_mdl, transf_X, y, scoring = 'neg_root_mean_squared_error', cv=5)"
   ]
  },
  {
   "cell_type": "code",
   "execution_count": 75,
   "id": "064271a9-b123-4831-a714-ac5c2639024f",
   "metadata": {},
   "outputs": [],
   "source": [
    "avg_elastic_scores = (sum(elastic_scores)/len(elastic_scores))"
   ]
  },
  {
   "cell_type": "code",
   "execution_count": 76,
   "id": "5811a581-5451-417c-8747-e7128f4ffdd4",
   "metadata": {},
   "outputs": [
    {
     "name": "stdout",
     "output_type": "stream",
     "text": [
      "The average RMSE for the Elastic Net model with 0.001 alpha is: 18.17773337774483\n"
     ]
    }
   ],
   "source": [
    "print('The average RMSE for the Elastic Net model with 0.001 alpha is: ' + str(abs(avg_elastic_scores)))"
   ]
  },
  {
   "cell_type": "markdown",
   "id": "be2bb2e7-3eee-41af-bf5a-e130034605f2",
   "metadata": {},
   "source": [
    "# Model Comparison"
   ]
  },
  {
   "cell_type": "code",
   "execution_count": 77,
   "id": "c673a610-85c2-418f-9a12-bebdc41f8518",
   "metadata": {},
   "outputs": [
    {
     "data": {
      "text/html": [
       "<div>\n",
       "<style scoped>\n",
       "    .dataframe tbody tr th:only-of-type {\n",
       "        vertical-align: middle;\n",
       "    }\n",
       "\n",
       "    .dataframe tbody tr th {\n",
       "        vertical-align: top;\n",
       "    }\n",
       "\n",
       "    .dataframe thead th {\n",
       "        text-align: right;\n",
       "    }\n",
       "</style>\n",
       "<table border=\"1\" class=\"dataframe\">\n",
       "  <thead>\n",
       "    <tr style=\"text-align: right;\">\n",
       "      <th></th>\n",
       "      <th>Column_Name</th>\n",
       "      <th>Coef_Value</th>\n",
       "      <th>Abslt_Coef_Value</th>\n",
       "    </tr>\n",
       "  </thead>\n",
       "  <tbody>\n",
       "    <tr>\n",
       "      <th>0</th>\n",
       "      <td>wtd_mean_atomic_radius</td>\n",
       "      <td>521.844128</td>\n",
       "      <td>521.844128</td>\n",
       "    </tr>\n",
       "    <tr>\n",
       "      <th>1</th>\n",
       "      <td>wtd_gmean_atomic_radius</td>\n",
       "      <td>-448.549884</td>\n",
       "      <td>448.549884</td>\n",
       "    </tr>\n",
       "    <tr>\n",
       "      <th>2</th>\n",
       "      <td>wtd_mean_atomic_mass</td>\n",
       "      <td>-241.873543</td>\n",
       "      <td>241.873543</td>\n",
       "    </tr>\n",
       "    <tr>\n",
       "      <th>3</th>\n",
       "      <td>wtd_mean_ThermalConductivity</td>\n",
       "      <td>206.522848</td>\n",
       "      <td>206.522848</td>\n",
       "    </tr>\n",
       "    <tr>\n",
       "      <th>4</th>\n",
       "      <td>Ba</td>\n",
       "      <td>194.962948</td>\n",
       "      <td>194.962948</td>\n",
       "    </tr>\n",
       "    <tr>\n",
       "      <th>5</th>\n",
       "      <td>wtd_mean_FusionHeat</td>\n",
       "      <td>-193.988547</td>\n",
       "      <td>193.988547</td>\n",
       "    </tr>\n",
       "    <tr>\n",
       "      <th>6</th>\n",
       "      <td>std_ElectronAffinity</td>\n",
       "      <td>186.029744</td>\n",
       "      <td>186.029744</td>\n",
       "    </tr>\n",
       "    <tr>\n",
       "      <th>7</th>\n",
       "      <td>mean_fie</td>\n",
       "      <td>-172.031643</td>\n",
       "      <td>172.031643</td>\n",
       "    </tr>\n",
       "    <tr>\n",
       "      <th>8</th>\n",
       "      <td>mean_atomic_mass</td>\n",
       "      <td>170.434821</td>\n",
       "      <td>170.434821</td>\n",
       "    </tr>\n",
       "    <tr>\n",
       "      <th>9</th>\n",
       "      <td>mean_atomic_radius</td>\n",
       "      <td>-166.546177</td>\n",
       "      <td>166.546177</td>\n",
       "    </tr>\n",
       "  </tbody>\n",
       "</table>\n",
       "</div>"
      ],
      "text/plain": [
       "                    Column_Name  Coef_Value  Abslt_Coef_Value\n",
       "0        wtd_mean_atomic_radius  521.844128        521.844128\n",
       "1       wtd_gmean_atomic_radius -448.549884        448.549884\n",
       "2          wtd_mean_atomic_mass -241.873543        241.873543\n",
       "3  wtd_mean_ThermalConductivity  206.522848        206.522848\n",
       "4                            Ba  194.962948        194.962948\n",
       "5           wtd_mean_FusionHeat -193.988547        193.988547\n",
       "6          std_ElectronAffinity  186.029744        186.029744\n",
       "7                      mean_fie -172.031643        172.031643\n",
       "8              mean_atomic_mass  170.434821        170.434821\n",
       "9            mean_atomic_radius -166.546177        166.546177"
      ]
     },
     "execution_count": 77,
     "metadata": {},
     "output_type": "execute_result"
    }
   ],
   "source": [
    "linear_variables.head(10)"
   ]
  },
  {
   "cell_type": "code",
   "execution_count": 78,
   "id": "e0c5a007-86bb-4f2a-9cb3-befbd5236ba9",
   "metadata": {},
   "outputs": [
    {
     "data": {
      "text/html": [
       "<div>\n",
       "<style scoped>\n",
       "    .dataframe tbody tr th:only-of-type {\n",
       "        vertical-align: middle;\n",
       "    }\n",
       "\n",
       "    .dataframe tbody tr th {\n",
       "        vertical-align: top;\n",
       "    }\n",
       "\n",
       "    .dataframe thead th {\n",
       "        text-align: right;\n",
       "    }\n",
       "</style>\n",
       "<table border=\"1\" class=\"dataframe\">\n",
       "  <thead>\n",
       "    <tr style=\"text-align: right;\">\n",
       "      <th></th>\n",
       "      <th>Column_Names</th>\n",
       "      <th>Coef_Value</th>\n",
       "      <th>Abslt_Coef_Value</th>\n",
       "    </tr>\n",
       "  </thead>\n",
       "  <tbody>\n",
       "    <tr>\n",
       "      <th>0</th>\n",
       "      <td>Ba</td>\n",
       "      <td>174.288687</td>\n",
       "      <td>174.288687</td>\n",
       "    </tr>\n",
       "    <tr>\n",
       "      <th>1</th>\n",
       "      <td>Si</td>\n",
       "      <td>-113.612014</td>\n",
       "      <td>113.612014</td>\n",
       "    </tr>\n",
       "    <tr>\n",
       "      <th>2</th>\n",
       "      <td>wtd_mean_ThermalConductivity</td>\n",
       "      <td>104.366591</td>\n",
       "      <td>104.366591</td>\n",
       "    </tr>\n",
       "    <tr>\n",
       "      <th>3</th>\n",
       "      <td>Bi</td>\n",
       "      <td>77.597746</td>\n",
       "      <td>77.597746</td>\n",
       "    </tr>\n",
       "    <tr>\n",
       "      <th>4</th>\n",
       "      <td>std_ElectronAffinity</td>\n",
       "      <td>60.909693</td>\n",
       "      <td>60.909693</td>\n",
       "    </tr>\n",
       "    <tr>\n",
       "      <th>5</th>\n",
       "      <td>wtd_gmean_ThermalConductivity</td>\n",
       "      <td>-60.418123</td>\n",
       "      <td>60.418123</td>\n",
       "    </tr>\n",
       "    <tr>\n",
       "      <th>6</th>\n",
       "      <td>Hg</td>\n",
       "      <td>48.714436</td>\n",
       "      <td>48.714436</td>\n",
       "    </tr>\n",
       "    <tr>\n",
       "      <th>7</th>\n",
       "      <td>wtd_std_Valence</td>\n",
       "      <td>-39.336539</td>\n",
       "      <td>39.336539</td>\n",
       "    </tr>\n",
       "    <tr>\n",
       "      <th>8</th>\n",
       "      <td>range_ElectronAffinity</td>\n",
       "      <td>-38.925656</td>\n",
       "      <td>38.925656</td>\n",
       "    </tr>\n",
       "    <tr>\n",
       "      <th>9</th>\n",
       "      <td>Ag</td>\n",
       "      <td>-38.403420</td>\n",
       "      <td>38.403420</td>\n",
       "    </tr>\n",
       "  </tbody>\n",
       "</table>\n",
       "</div>"
      ],
      "text/plain": [
       "                    Column_Names  Coef_Value  Abslt_Coef_Value\n",
       "0                             Ba  174.288687        174.288687\n",
       "1                             Si -113.612014        113.612014\n",
       "2   wtd_mean_ThermalConductivity  104.366591        104.366591\n",
       "3                             Bi   77.597746         77.597746\n",
       "4           std_ElectronAffinity   60.909693         60.909693\n",
       "5  wtd_gmean_ThermalConductivity  -60.418123         60.418123\n",
       "6                             Hg   48.714436         48.714436\n",
       "7                wtd_std_Valence  -39.336539         39.336539\n",
       "8         range_ElectronAffinity  -38.925656         38.925656\n",
       "9                             Ag  -38.403420         38.403420"
      ]
     },
     "execution_count": 78,
     "metadata": {},
     "output_type": "execute_result"
    }
   ],
   "source": [
    "lasso_variables.head(10)"
   ]
  },
  {
   "cell_type": "code",
   "execution_count": 79,
   "id": "c7844f72-bf6a-40c6-9d29-5a6f94a55441",
   "metadata": {},
   "outputs": [
    {
     "data": {
      "text/html": [
       "<div>\n",
       "<style scoped>\n",
       "    .dataframe tbody tr th:only-of-type {\n",
       "        vertical-align: middle;\n",
       "    }\n",
       "\n",
       "    .dataframe tbody tr th {\n",
       "        vertical-align: top;\n",
       "    }\n",
       "\n",
       "    .dataframe thead th {\n",
       "        text-align: right;\n",
       "    }\n",
       "</style>\n",
       "<table border=\"1\" class=\"dataframe\">\n",
       "  <thead>\n",
       "    <tr style=\"text-align: right;\">\n",
       "      <th></th>\n",
       "      <th>Column_Names</th>\n",
       "      <th>Coef_Value</th>\n",
       "      <th>Abslt_Coef_Value</th>\n",
       "    </tr>\n",
       "  </thead>\n",
       "  <tbody>\n",
       "    <tr>\n",
       "      <th>0</th>\n",
       "      <td>Ba</td>\n",
       "      <td>156.585736</td>\n",
       "      <td>156.585736</td>\n",
       "    </tr>\n",
       "    <tr>\n",
       "      <th>1</th>\n",
       "      <td>wtd_mean_ThermalConductivity</td>\n",
       "      <td>113.439259</td>\n",
       "      <td>113.439259</td>\n",
       "    </tr>\n",
       "    <tr>\n",
       "      <th>2</th>\n",
       "      <td>Si</td>\n",
       "      <td>-104.198292</td>\n",
       "      <td>104.198292</td>\n",
       "    </tr>\n",
       "    <tr>\n",
       "      <th>3</th>\n",
       "      <td>std_ElectronAffinity</td>\n",
       "      <td>101.054884</td>\n",
       "      <td>101.054884</td>\n",
       "    </tr>\n",
       "    <tr>\n",
       "      <th>4</th>\n",
       "      <td>Bi</td>\n",
       "      <td>83.266280</td>\n",
       "      <td>83.266280</td>\n",
       "    </tr>\n",
       "    <tr>\n",
       "      <th>5</th>\n",
       "      <td>range_ElectronAffinity</td>\n",
       "      <td>-71.083334</td>\n",
       "      <td>71.083334</td>\n",
       "    </tr>\n",
       "    <tr>\n",
       "      <th>6</th>\n",
       "      <td>wtd_gmean_ElectronAffinity</td>\n",
       "      <td>-65.859485</td>\n",
       "      <td>65.859485</td>\n",
       "    </tr>\n",
       "    <tr>\n",
       "      <th>7</th>\n",
       "      <td>Ag</td>\n",
       "      <td>-60.407004</td>\n",
       "      <td>60.407004</td>\n",
       "    </tr>\n",
       "    <tr>\n",
       "      <th>8</th>\n",
       "      <td>wtd_gmean_ThermalConductivity</td>\n",
       "      <td>-57.620197</td>\n",
       "      <td>57.620197</td>\n",
       "    </tr>\n",
       "    <tr>\n",
       "      <th>9</th>\n",
       "      <td>std_atomic_radius</td>\n",
       "      <td>-56.321160</td>\n",
       "      <td>56.321160</td>\n",
       "    </tr>\n",
       "  </tbody>\n",
       "</table>\n",
       "</div>"
      ],
      "text/plain": [
       "                    Column_Names  Coef_Value  Abslt_Coef_Value\n",
       "0                             Ba  156.585736        156.585736\n",
       "1   wtd_mean_ThermalConductivity  113.439259        113.439259\n",
       "2                             Si -104.198292        104.198292\n",
       "3           std_ElectronAffinity  101.054884        101.054884\n",
       "4                             Bi   83.266280         83.266280\n",
       "5         range_ElectronAffinity  -71.083334         71.083334\n",
       "6     wtd_gmean_ElectronAffinity  -65.859485         65.859485\n",
       "7                             Ag  -60.407004         60.407004\n",
       "8  wtd_gmean_ThermalConductivity  -57.620197         57.620197\n",
       "9              std_atomic_radius  -56.321160         56.321160"
      ]
     },
     "execution_count": 79,
     "metadata": {},
     "output_type": "execute_result"
    }
   ],
   "source": [
    "ridge_variables.head(10)"
   ]
  },
  {
   "cell_type": "code",
   "execution_count": 80,
   "id": "e6c2d5d5-d31b-48cd-b634-63b224642201",
   "metadata": {},
   "outputs": [
    {
     "data": {
      "text/html": [
       "<div>\n",
       "<style scoped>\n",
       "    .dataframe tbody tr th:only-of-type {\n",
       "        vertical-align: middle;\n",
       "    }\n",
       "\n",
       "    .dataframe tbody tr th {\n",
       "        vertical-align: top;\n",
       "    }\n",
       "\n",
       "    .dataframe thead th {\n",
       "        text-align: right;\n",
       "    }\n",
       "</style>\n",
       "<table border=\"1\" class=\"dataframe\">\n",
       "  <thead>\n",
       "    <tr style=\"text-align: right;\">\n",
       "      <th></th>\n",
       "      <th>Column_Names</th>\n",
       "      <th>Coef_Value</th>\n",
       "      <th>Abslt_Coef_Value</th>\n",
       "    </tr>\n",
       "  </thead>\n",
       "  <tbody>\n",
       "    <tr>\n",
       "      <th>0</th>\n",
       "      <td>Ba</td>\n",
       "      <td>89.459940</td>\n",
       "      <td>89.459940</td>\n",
       "    </tr>\n",
       "    <tr>\n",
       "      <th>1</th>\n",
       "      <td>Bi</td>\n",
       "      <td>57.973166</td>\n",
       "      <td>57.973166</td>\n",
       "    </tr>\n",
       "    <tr>\n",
       "      <th>2</th>\n",
       "      <td>wtd_mean_ThermalConductivity</td>\n",
       "      <td>49.121027</td>\n",
       "      <td>49.121027</td>\n",
       "    </tr>\n",
       "    <tr>\n",
       "      <th>3</th>\n",
       "      <td>wtd_std_ThermalConductivity</td>\n",
       "      <td>45.618616</td>\n",
       "      <td>45.618616</td>\n",
       "    </tr>\n",
       "    <tr>\n",
       "      <th>4</th>\n",
       "      <td>wtd_std_Valence</td>\n",
       "      <td>-42.491786</td>\n",
       "      <td>42.491786</td>\n",
       "    </tr>\n",
       "    <tr>\n",
       "      <th>5</th>\n",
       "      <td>Si</td>\n",
       "      <td>-40.534365</td>\n",
       "      <td>40.534365</td>\n",
       "    </tr>\n",
       "    <tr>\n",
       "      <th>6</th>\n",
       "      <td>wtd_gmean_ElectronAffinity</td>\n",
       "      <td>-33.490541</td>\n",
       "      <td>33.490541</td>\n",
       "    </tr>\n",
       "    <tr>\n",
       "      <th>7</th>\n",
       "      <td>wtd_std_atomic_mass</td>\n",
       "      <td>-33.185094</td>\n",
       "      <td>33.185094</td>\n",
       "    </tr>\n",
       "    <tr>\n",
       "      <th>8</th>\n",
       "      <td>std_ElectronAffinity</td>\n",
       "      <td>33.160693</td>\n",
       "      <td>33.160693</td>\n",
       "    </tr>\n",
       "    <tr>\n",
       "      <th>9</th>\n",
       "      <td>range_atomic_mass</td>\n",
       "      <td>32.777283</td>\n",
       "      <td>32.777283</td>\n",
       "    </tr>\n",
       "  </tbody>\n",
       "</table>\n",
       "</div>"
      ],
      "text/plain": [
       "                   Column_Names  Coef_Value  Abslt_Coef_Value\n",
       "0                            Ba   89.459940         89.459940\n",
       "1                            Bi   57.973166         57.973166\n",
       "2  wtd_mean_ThermalConductivity   49.121027         49.121027\n",
       "3   wtd_std_ThermalConductivity   45.618616         45.618616\n",
       "4               wtd_std_Valence  -42.491786         42.491786\n",
       "5                            Si  -40.534365         40.534365\n",
       "6    wtd_gmean_ElectronAffinity  -33.490541         33.490541\n",
       "7           wtd_std_atomic_mass  -33.185094         33.185094\n",
       "8          std_ElectronAffinity   33.160693         33.160693\n",
       "9             range_atomic_mass   32.777283         32.777283"
      ]
     },
     "execution_count": 80,
     "metadata": {},
     "output_type": "execute_result"
    }
   ],
   "source": [
    "elastic_variables.head(10)"
   ]
  },
  {
   "cell_type": "code",
   "execution_count": 93,
   "id": "3500bc02-3b5b-4965-9a5b-e5a8f5b17e5c",
   "metadata": {},
   "outputs": [
    {
     "name": "stdout",
     "output_type": "stream",
     "text": [
      "The intercept for the Linear Model is: 0.6314330445692633\n",
      "The average RMSE for the Linear model is: 24.970298733728743\n",
      "The Linear model used 164 predictors\n",
      "----------------------------------------\n",
      "The alpha for the Lasso Model was 0.010\n",
      "The intercept for the Lasso Model is: 7.8972943821622295\n",
      "The average RMSE of the Lasso model is: 18.229452949323765\n",
      "The Lasso model used 74 predictors\n",
      "----------------------------------------\n",
      "The alpha for the Ridge Model was 1.670\n",
      "The intercept for the Ridge Model is: -3.6227510109969643\n",
      "The average RMSE of the Ridge model is: 18.02763541490335\n",
      "The Ridge model used 158 predictors\n",
      "----------------------------------------\n",
      "The alpha for the Elastic Net Model was 0.001\n",
      "The intercept for the Elastic Net Model is: -6.646947602606943\n",
      "The average RMSE of the Elastic Net model is: 18.17773337774483\n",
      "The Elastic model used 149 predictors\n"
     ]
    }
   ],
   "source": [
    "print('The intercept for the Linear Model is: ' + str(linear_mdl.intercept_) + '\\nThe average RMSE for the Linear model is: ' + str(abs(avg_linear_scores)) + '\\nThe Linear model used ' + str(len(linear_variables)) + ' predictors')\n",
    "print('----------------------------------------')\n",
    "print('The alpha for the Lasso Model was 0.010' + '\\nThe intercept for the Lasso Model is: ' + str(lasso_mdl.intercept_) + '\\nThe average RMSE of the Lasso model is: ' + str(abs(avg_lasso_scores)) + '\\nThe Lasso model used ' + str(len(lasso_variables)) + ' predictors')\n",
    "print('----------------------------------------')\n",
    "print('The alpha for the Ridge Model was 1.670' + '\\nThe intercept for the Ridge Model is: ' + str(ridge_mdl.intercept_) + '\\nThe average RMSE of the Ridge model is: ' + str(abs(avg_ridge_scores)) + '\\nThe Ridge model used ' + str(len(ridge_variables)) + ' predictors')\n",
    "print('----------------------------------------')\n",
    "print('The alpha for the Elastic Net Model was 0.001' + '\\nThe intercept for the Elastic Net Model is: ' + str(elastic_mdl.intercept_) + '\\nThe average RMSE of the Elastic Net model is: ' + str(abs(avg_elastic_scores)) + '\\nThe Elastic model used ' + str(len(elastic_variables)) + ' predictors')"
   ]
  },
  {
   "cell_type": "markdown",
   "id": "c0e51d83-b7c3-46e1-8d3c-e5bac29f3cf1",
   "metadata": {},
   "source": [
    "The original Linear Model achieved an RMSE of 24.97 K. Lasso had an average RMSE of 18.23. Ridge was 18.03. Elastic Net was 18.18. Despite the highly different alphas among the 3 models they almost perfectly agree on the amount of error and each has better performance than the original linear model. However, Lasso accomplishes this with only 73 predictors, as opposed to the 157 in the ridge model and the 148 in the Elastic model. The top 10 predictors are very similar in the Lasso and Ridge models although the importance and coefficients do vary. There are some differences in the top predictors when looking at the Linear or Elastic Net model. As we would expect, Silicon, Mercury, and Silver are all very good conductors as indicated by their large negative coefficients compared to the Barium and Bismuth which are not and have very large positive coefficients. There is a large importance placed on thermal conductivity, valence, and electron affinity as well. The RMSE is equivalent to an error of approx plus/minus 64.5 degrees Fahrenheit. \n",
    "\n",
    "** I would make the argument that tuned lasso had the best performance. 18.22 at 74 predictors vs 18.03 with 158 predictors. "
   ]
  },
  {
   "cell_type": "code",
   "execution_count": null,
   "id": "49a208af-af3f-4dc5-98d8-36ed53871b83",
   "metadata": {},
   "outputs": [],
   "source": []
  }
 ],
 "metadata": {
  "kernelspec": {
   "display_name": "Python 3 (ipykernel)",
   "language": "python",
   "name": "python3"
  },
  "language_info": {
   "codemirror_mode": {
    "name": "ipython",
    "version": 3
   },
   "file_extension": ".py",
   "mimetype": "text/x-python",
   "name": "python",
   "nbconvert_exporter": "python",
   "pygments_lexer": "ipython3",
   "version": "3.8.11"
  }
 },
 "nbformat": 4,
 "nbformat_minor": 5
}
